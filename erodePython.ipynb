{
 "cells": [
  {
   "cell_type": "markdown",
   "id": "15fb4090-e721-4c83-97d7-9565842699e0",
   "metadata": {},
   "source": [
    "# Install libraries"
   ]
  },
  {
   "cell_type": "code",
   "execution_count": null,
   "id": "cc2ebaac-ba01-4b55-93f8-51ad33e8ec86",
   "metadata": {},
   "outputs": [],
   "source": [
    "%pip install --upgrade pip\n",
    "%pip install matplotlib\n",
    "%pip install pandas\n",
    "%pip install py4j\n",
    "%pip install scipy\n",
    "\n",
    "%pip install cvxopt\n",
    "\n",
    "\n",
    "#%pip install seaborn"
   ]
  },
  {
   "cell_type": "markdown",
   "id": "4eecf02c-11d3-43cd-9287-281e5c04983e",
   "metadata": {
    "tags": []
   },
   "source": [
    "# Handle Java Virtual Machines"
   ]
  },
  {
   "cell_type": "markdown",
   "id": "220f4b46-ac30-41d6-8e95-96b31f88d96c",
   "metadata": {},
   "source": [
    "## Import libraries to run/terminate JVM"
   ]
  },
  {
   "cell_type": "code",
   "execution_count": 36,
   "id": "6e9e9ef2-897b-4e47-b5f8-a60a2ab90df2",
   "metadata": {},
   "outputs": [],
   "source": [
    "from contextlib import closing\n",
    "import os\n",
    "import sys\n",
    "import platform\n",
    "import socket\n",
    "import subprocess\n",
    "from subprocess import PIPE\n",
    "import tempfile\n",
    "import pandas as pd\n",
    "import time\n",
    "\n",
    "import matplotlib.pyplot as plt\n",
    "\n",
    "#import seaborn as sns\n",
    "#sns.set_theme()\n",
    "\n",
    "import numpy as np\n",
    "\n",
    "\n",
    "from py4j.java_gateway import JavaGateway, GatewayParameters\n",
    "from py4j.java_collections import ListConverter\n",
    "\n",
    "import scipy\n",
    "\n",
    "from datetime import datetime\n",
    "\n",
    "from math import sqrt\n",
    "from cvxopt import matrix\n",
    "from cvxopt.blas import dot\n",
    "from cvxopt.solvers import qp\n",
    "#help(qp)"
   ]
  },
  {
   "cell_type": "markdown",
   "id": "8be0b455",
   "metadata": {},
   "source": [
    "# Download the latest version of the ERODE library"
   ]
  },
  {
   "cell_type": "code",
   "execution_count": null,
   "id": "86afa9ec",
   "metadata": {},
   "outputs": [],
   "source": [
    "import urllib.request\n",
    "from pathlib import Path\n",
    "\n",
    "base_url=\"https://www.erode.eu/distr/erode_python/\"\n",
    "files=[\"erode.jar\",\"AM.ode\",\"kaic.ode\",\"MI.ode\",\"test2.csv\",\"test2B.csv\",\"test2_pert2.csv\",\"test2_pert2.ode\",\"test2_pert.ode\",\"test2_pert.csv\"]\n",
    "\n",
    "for file in files:\n",
    "    url=base_url+file\n",
    "    urllib.request.urlretrieve(url,Path(url).name)"
   ]
  },
  {
   "cell_type": "markdown",
   "id": "0d5230cc-8360-4fc8-a351-bf7d6bbd21db",
   "metadata": {},
   "source": [
    "## Define functions to run/terminate JVM"
   ]
  },
  {
   "cell_type": "code",
   "execution_count": 70,
   "id": "6ebb286c-0579-4095-9125-65758c1ec9da",
   "metadata": {},
   "outputs": [],
   "source": [
    "class ErodeHandler:\n",
    "    ## Specify path to java JDK\n",
    "    #Default string. Can be changed using the constructor of erodeHandler\n",
    "    #__JAVA_PATH__=\"/Library/Java/JavaVirtualMachines/jdk-11.0.14.jdk/Contents/Home/bin/java\"\n",
    "    #__JAVA_PATH__=\"/usr/lib/jvm/java-8-openjdk-amd64/Contents/Home/bin/java\"\n",
    "    __JAVA_PATH__=\"java\"\n",
    "    __IN_COLAB__ = False #'google.colab' in sys.modules\n",
    "\n",
    "    ## Specify path to java JDK\n",
    "    #Default string. \n",
    "    __ERODE_JAR__ = \"erode.jar\" #os.path.join(os.path.dirname(__file__), \"erode.jar\")\n",
    "\n",
    "    ## Specify whether a new JVM shall be created, or whether we shall connect to an existing one\n",
    "    # Do not change\n",
    "    __STARTJVM__ = True\n",
    "    \n",
    "    def __init__(self,j_path=__JAVA_PATH__):\n",
    "        self._java_path=j_path\n",
    "        self.erode_jar=ErodeHandler.__ERODE_JAR__\n",
    "        if ErodeHandler.__IN_COLAB__:\n",
    "          print('I install java')\n",
    "          self._install_java()\n",
    "\n",
    "    def _install_java(self):\n",
    "      !apt-get install -y openjdk-8-jdk-headless -qq > /dev/null      #install openjdk\n",
    "      os.environ[\"JAVA_HOME\"] = \"/usr/lib/jvm/java-8-openjdk-amd64\"     #set environment variable\n",
    "      #!java -version       #check java version\n",
    "      ErodeHandler.__JAVA_PATH__=\"java\"\n",
    "      \n",
    "\n",
    "    def _start_server(self):\n",
    "        # find a free port\n",
    "        for port in range(25333, 65545):\n",
    "            with closing(socket.socket(socket.AF_INET, socket.SOCK_STREAM)) as s:\n",
    "                dest_addr = (\"127.0.0.1\", port)\n",
    "                if s.connect_ex(dest_addr):\n",
    "                    break\n",
    "\n",
    "        #ld_path = __ERODE_LIB_DIR__\n",
    "        ld_path='native/osx'\n",
    "        #java=\"java\"\n",
    "        java =self._java_path\n",
    "        argv = [java, f'-Djava.library.path=\"{ld_path}\"',\n",
    "                    \"-jar\", self.erode_jar, str(port)]\n",
    "        #print(\"argv\",argv)\n",
    "        if platform.system() == \"Linux\":\n",
    "            env_ld_path = os.getenv(\"LD_LIBRARY_PATH\")\n",
    "            if env_ld_path:\n",
    "                ld_path = f\"{ld_path}:{env_ld_path}\"\n",
    "            env ={\"LD_LIBRARY_PATH\": ld_path}\n",
    "            proc = subprocess.Popen(\" \".join(argv), stdout=PIPE,\n",
    "                    shell=True, env=env)\n",
    "        else:\n",
    "            proc = subprocess.Popen(argv, stdout=PIPE)\n",
    "        proc.stdout.readline()\n",
    "\n",
    "        self._proc=proc\n",
    "        self._port=port\n",
    "\n",
    "        time.sleep(1) # Sleep for 1 second\n",
    "        return #proc, port\n",
    "\n",
    "    def _stop_server(self):\n",
    "        if ErodeHandler.__STARTJVM__:\n",
    "            print('Terminating JVM and ERODE')\n",
    "            time.sleep(1) # Sleep for 1 second\n",
    "            self._proc.terminate()\n",
    "            try:\n",
    "                self._proc.wait(5)\n",
    "            except subprocess.TimeoutExpired:\n",
    "                self._proc.kill()\n",
    "                self._proc.wait()\n",
    "            print(' Completed')\n",
    "        else:\n",
    "            print('Nothing to terminate')\n",
    "\n",
    "    def start_JVM(self):\n",
    "        print('Starting the JVM and ERODE')\n",
    "        if ErodeHandler.__STARTJVM__:\n",
    "            #self._proc, self._port = _start_server()\n",
    "            self._start_server()\n",
    "        else:\n",
    "            self._proc =-1\n",
    "            self._port =25347\n",
    "        gw_params = GatewayParameters(port=self._port)#, auto_convert=True)\n",
    "        self._gw = JavaGateway(gateway_parameters=gw_params)\n",
    "\n",
    "        self.int_class   =self._gw.jvm.int    # make int class\n",
    "        self.double_class=self._gw.jvm.double # make double class\n",
    "        self.erode = self._gw.entry_point\n",
    "        #print(_proc)\n",
    "        #_port\n",
    "        print('  Completed')\n",
    "        return self.erode #,self._proc,self._port\n",
    "            \n",
    "    def j_to_py_matrix(self,metrics_java):\n",
    "        metrics_python= [ list(line) for line in metrics_java ]\n",
    "        return metrics_python        \n",
    "\n",
    "    def j_to_py_list(self,partition_java,type):\n",
    "        partition_python= [ type(entry) for entry in partition_java ]\n",
    "        return partition_python\n",
    "    \n",
    "    def j_to_py_2dList(self,twoDList_java,type):\n",
    "        twoDList_python= [ [type(entry) for entry in row] for row in twoDList_java ]\n",
    "        return twoDList_python\n",
    "\n",
    "\n",
    "    #Takes in input a list of int created in python. Gives in output a corresponding array of int for java\n",
    "    def py_to_j_list(self,python_int_list):\n",
    "        java_int_array = self._gw.new_array(self.int_class,len(python_int_list))\n",
    "        #double_array = gateway.new_array(self.double_class,1,len(partition_python))\n",
    "\n",
    "        for i in range(len(python_int_list)):\n",
    "            java_int_array[i]=python_int_list[i]\n",
    "        \n",
    "        return java_int_array\n",
    "\n",
    "    def matrix_to_upper_diagonal(m):\n",
    "        l=[]\n",
    "        for i in range(len(m)):\n",
    "            for j in range(i+1,len(m)):\n",
    "                l.append(m[i][j])\n",
    "        return l\n",
    "    \n",
    "    def computeParamsToMakeApprox_BE_FE(self,be):\n",
    "        red_name= \"be\"\n",
    "        if not be:\n",
    "            red_name=\"fe\"\n",
    "        if not self.erode.hasLatestAxB():   \n",
    "            print(\"Compute an approx\"+red_name+\" (run approx\"+red_name+\") before searching for parameters that make it an exact \"+red_name)\n",
    "            return\n",
    "\n",
    "        A_java= self.erode.getLatestAxB_A()\n",
    "        A=self.j_to_py_2dList(A_java,float)\n",
    "        print(\"A\")\n",
    "        print(A)\n",
    "\n",
    "        B_java= self.erode.getLatestAxB_B()\n",
    "        B=self.j_to_py_list(B_java,float)\n",
    "        print(\"B\")\n",
    "        print(B)\n",
    "        \n",
    "\n",
    "        p0_java=self.erode.getLatestAxB_p0()\n",
    "        p0=self.j_to_py_list(p0_java,float)\n",
    "        p0_m=matrix(np.array(p0))\n",
    "\n",
    "        eyep0=np.eye(len(p0))\n",
    "        eyep0_m=matrix(np.array(eyep0))\n",
    "        \n",
    "        zerosA=np.zeros((len(A),len(A[0])) )\n",
    "        zerosA_m=matrix(np.array(zerosA))\n",
    "\n",
    "        zerosB=np.zeros((len(B),1))\n",
    "        zerosB_m=matrix(np.array(zerosB))\n",
    "\n",
    "        A_m=matrix(np.array(A))\n",
    "        B_m=matrix(np.array(B))\n",
    "\n",
    "        try:\n",
    "            # #qp(mu*S, -pbar, G, h, A, b)\n",
    "            # #qp(P=eye(size(p0,2)), q=-p0, G=zeros(size(A,1),size(A,2)), h=zeros(1,size(b,2)), A=A, b=b) #, solver, initvals)\n",
    "            print(\"We now find the optimal solution\")\n",
    "            #Rank(A) < p or Rank([P; A; G]) < n\n",
    "            #if(sum(isinf(p) + isnan(p)) > 0 || norm(A*p - b') > (10^-10))\n",
    "            p0_Opt=qp(P=eyep0_m, q=-p0_m, G=zerosA_m, h=zerosB_m, A=A_m, b=B_m) #, solver, initvals)\n",
    "\n",
    "            variables=self.erode.getVariables()\n",
    "            parameters=self.erode.getParameters()\n",
    "            vars_pars=list(variables) + list(parameters)\n",
    "            optimalParams=p0_Opt['x']\n",
    "            for v,p in zip(vars_pars,optimalParams):\n",
    "                print(v,\"=\",p)\n",
    "            return optimalParams\n",
    "        except ValueError as e:\n",
    "            print('The optimization problem could not be solved. Likely the matrix A is not full rank.')\n",
    "            print(\" Error message: \",e)\n",
    "        return None\n",
    "    \n",
    "    def computeParamsToMakeApprox_BE(self):\n",
    "        self.computeParamsToMakeApprox_BE_FE(be=True)\n",
    "    \n",
    "    def computeParamsToMakeApprox_FE(self):\n",
    "        self.computeParamsToMakeApprox_BE_FE(be=False)"
   ]
  },
  {
   "cell_type": "markdown",
   "id": "afaa3e5b-c139-4820-85cb-3483268ffc00",
   "metadata": {
    "tags": []
   },
   "source": [
    "# Use ERODE"
   ]
  },
  {
   "cell_type": "markdown",
   "id": "d812607e-a29b-4fe0-bc1b-143f78afd004",
   "metadata": {},
   "source": [
    "## Start ERODE and VM"
   ]
  },
  {
   "cell_type": "code",
   "execution_count": 71,
   "id": "1a104240-e38b-4f65-b122-b6520c8db5f9",
   "metadata": {},
   "outputs": [
    {
     "name": "stdout",
     "output_type": "stream",
     "text": [
      "Starting the JVM and ERODE\n",
      "  Completed\n"
     ]
    },
    {
     "data": {
      "text/plain": [
       "py4j.java_gateway.JavaObject"
      ]
     },
     "execution_count": 71,
     "metadata": {},
     "output_type": "execute_result"
    }
   ],
   "source": [
    "#Always start ERODE on a JVM\n",
    "erodeHandler = ErodeHandler()\n",
    "erode=erodeHandler.start_JVM()\n",
    "type(erode)"
   ]
  },
  {
   "cell_type": "markdown",
   "id": "582b1c51",
   "metadata": {},
   "source": [
    "## Set scale and tolearnce\n",
    "- Scale: the number of digits to be considered when updating counters of BE/FE, default 20\n",
    "- Tolerance: used to compare counters up to a tolerance when splitting blocks (default 1E-scale, e.g. 1E-20)\n",
    "\n",
    "We recommend the use of setScale, that sets tolerance to 1E-scale, connecting scale and tolerance. \n",
    "- For specific needs, one might be interested in having specific tolearnces"
   ]
  },
  {
   "cell_type": "code",
   "execution_count": 72,
   "id": "ca010e06",
   "metadata": {},
   "outputs": [],
   "source": [
    "# set scale to 15, and tolerance to 1E-15\n",
    "#erode.setScale(15)\n",
    "\n",
    "# set scale to 15, and tolerance to 0.5\n",
    "#erode.setSCALEandSpecificTolerance(15,0.5)"
   ]
  },
  {
   "cell_type": "markdown",
   "id": "86bd4ca0-3a99-4cb0-b154-4d3e5b29c5b0",
   "metadata": {},
   "source": [
    "## Tests"
   ]
  },
  {
   "cell_type": "markdown",
   "id": "bc4752fb-ae05-4dbd-a441-b40742f09a51",
   "metadata": {},
   "source": [
    "### Import Affine systems"
   ]
  },
  {
   "cell_type": "code",
   "execution_count": 73,
   "id": "4efb0ca6-1ca6-4341-8a16-8bf1ed67eda6",
   "metadata": {},
   "outputs": [
    {
     "name": "stdout",
     "output_type": "stream",
     "text": [
      "The loaded model has 3 variables\n",
      "test2.csv: 2 parameters, 2 reactions, 3 species.\n",
      "Parameters:\n",
      "[p0 1.0, p1 1.0]\n",
      "Species:\n",
      "[S0, S1, S2]\n",
      " Reactions:\n",
      "[S1-- (p0) -->S0+S1, S2-- (p1) -->S0+S2]\n"
     ]
    }
   ],
   "source": [
    "erode.importAffine(\"test2.csv\",\"test2B.csv\",True)\n",
    "nVars=erode.getVariablesNum()\n",
    "print('The loaded model has',nVars,'variables')\n",
    "print(erode.getModelString())"
   ]
  },
  {
   "cell_type": "markdown",
   "id": "0b54356d-436e-4b14-bf2a-8e564d6012e8",
   "metadata": {},
   "source": [
    "### Import and reduce ODEs"
   ]
  },
  {
   "cell_type": "code",
   "execution_count": 74,
   "id": "36a7e601-59d7-4cfe-9d0f-d848ba53b7e9",
   "metadata": {},
   "outputs": [
    {
     "name": "stdout",
     "output_type": "stream",
     "text": [
      "We have loaded model AM.ode\n",
      "AM.ode: 4 parameters, 4 reactions, 3 species.\n",
      "Parameters:\n",
      "[p1 1.0, p2 1.0, p3 1.0, p4 1.0]\n",
      "Species:\n",
      "[x0, x1, x2]\n",
      " Reactions:\n",
      "[x0+x2-- (p1) -->x1+x2, x0+x2-- (p2) -->x0+x1, x0+x1-- (p3) -->2*x0, x1+x2-- (p4) -->2*x2]\n"
     ]
    }
   ],
   "source": [
    "# Load the AM model https://bmcsystbiol.biomedcentral.com/articles/10.1186/1752-0509-8-84\n",
    "# we use a variant with all parameters set to one\n",
    "erode.loadModel(\"AM.ode\")\n",
    "print('We have loaded model',erode.getModelName())\n",
    "print(erode.getModelString())"
   ]
  },
  {
   "cell_type": "code",
   "execution_count": 75,
   "id": "e1d42f6e-ce52-4c7a-ab23-5fd7c23df3b6",
   "metadata": {},
   "outputs": [
    {
     "name": "stdout",
     "output_type": "stream",
     "text": [
      "\n",
      "<class 'py4j.java_collections.JavaArray'>\n",
      "\n",
      "The partition has 1 block out of 3 species:\n",
      "Block 1, Size: 3\n",
      "0-x0 \n",
      "1-x1 \n",
      "2-x2 \n",
      "\n"
     ]
    }
   ],
   "source": [
    "obtained = erode.computeBE();\n",
    "print()\n",
    "print(type(obtained))\n",
    "print()\n",
    "print(erode.getPartitionString(obtained))"
   ]
  },
  {
   "cell_type": "code",
   "execution_count": 76,
   "id": "a658a0fe-408f-4298-af27-7ceff40158ed",
   "metadata": {},
   "outputs": [
    {
     "name": "stdout",
     "output_type": "stream",
     "text": [
      "The partition has 1 blocks\n"
     ]
    }
   ],
   "source": [
    "n_blocks=erode.getNumberOfBlocks(obtained)\n",
    "print(\"The partition has\",n_blocks,\"blocks\")"
   ]
  },
  {
   "cell_type": "markdown",
   "id": "f8fba5b7-5d57-4ad3-a803-7482eb88a44e",
   "metadata": {},
   "source": [
    "#### We can provide custom prepartitions\n",
    "- E.g., we don't want to mix x2 with the other two variables\n",
    "- We just need to make a pre-pratitiong of the viariables: {{x0,x1},{x2}} \n",
    "- We do this by creating a list of int with one entry per variable. \n",
    "- The int values will denote blocks of the pre-partitions: variables with assigned same number will stay together\n",
    "- E.g, we can encode {{x0,x1},{x2}} as [1,1,2]"
   ]
  },
  {
   "cell_type": "code",
   "execution_count": 77,
   "id": "ba6788ef",
   "metadata": {},
   "outputs": [
    {
     "name": "stdout",
     "output_type": "stream",
     "text": [
      "ERODE will use the following pre_partition\n",
      "The partition has 2 blocks out of 3 species:\n",
      "Block 1, Size: 2\n",
      "0-x0 \n",
      "1-x1 \n",
      "\n",
      "Block 2, Size: 1\n",
      "2-x2 \n",
      "\n",
      "The initial partition has 2 blocks\n",
      "\n",
      "This is the obtained partition\n",
      "The partition has 3 blocks out of 3 species:\n",
      "Block 1, Size: 1\n",
      "0-x0 \n",
      "\n",
      "Block 2, Size: 1\n",
      "1-x1 \n",
      "\n",
      "Block 3, Size: 1\n",
      "2-x2 \n",
      "\n"
     ]
    }
   ],
   "source": [
    "pre_part=erodeHandler.py_to_j_list([1,1,2])\n",
    "\n",
    "print(\"ERODE will use the following pre_partition\")\n",
    "print(erode.getPartitionString(pre_part))\n",
    "\n",
    "n_blocks=erode.getNumberOfBlocks(pre_part)\n",
    "print(\"The initial partition has\",n_blocks,\"blocks\\n\")\n",
    "\n",
    "obtained_prep = erode.computeBE(pre_part);\n",
    "#obtained_prep\n",
    "print(\"This is the obtained partition\")\n",
    "print(erode.getPartitionString(obtained_prep))"
   ]
  },
  {
   "cell_type": "markdown",
   "id": "ac4ee72b-c8e9-4276-b975-7d4da1bcc866",
   "metadata": {},
   "source": [
    "#### We can provide the prepartition written in the model, if any\n"
   ]
  },
  {
   "cell_type": "code",
   "execution_count": 78,
   "id": "f4b0e535-a780-4e74-9912-6a7d64433066",
   "metadata": {},
   "outputs": [
    {
     "name": "stdout",
     "output_type": "stream",
     "text": [
      "ERODE will use the following pre_partition\n",
      "The partition has 2 blocks out of 3 species:\n",
      "Block 1, Size: 2\n",
      "0-x0 \n",
      "2-x2 \n",
      "\n",
      "Block 2, Size: 1\n",
      "1-x1 \n",
      "\n",
      "This is the obtained partition\n",
      "The partition has 2 blocks out of 3 species:\n",
      "Block 1, Size: 2\n",
      "0-x0 \n",
      "2-x2 \n",
      "\n",
      "Block 2, Size: 1\n",
      "1-x1 \n",
      "\n"
     ]
    }
   ],
   "source": [
    "pre_part=erode.getUserDefinedPartition()\n",
    "\n",
    "print(\"ERODE will use the following pre_partition\")\n",
    "print(erode.getPartitionString(pre_part))\n",
    "\n",
    "obtained_prep = erode.computeBE(pre_part);\n",
    "#obtained_prep\n",
    "print(\"This is the obtained partition\")\n",
    "print(erode.getPartitionString(obtained_prep))"
   ]
  },
  {
   "cell_type": "markdown",
   "id": "35001c09-6c33-41e1-a10d-ec42a0684a82",
   "metadata": {},
   "source": [
    "#### Further examples of reduction"
   ]
  },
  {
   "cell_type": "code",
   "execution_count": 79,
   "id": "14a4e2fc-1c8b-42c2-a43f-1673def24b91",
   "metadata": {},
   "outputs": [
    {
     "name": "stdout",
     "output_type": "stream",
     "text": [
      "The partition has 1 block out of 3 species:\n",
      "Block 1, Size: 3\n",
      "0-x0 \n",
      "1-x1 \n",
      "2-x2 \n",
      "\n"
     ]
    }
   ],
   "source": [
    "obtained = erode.computeFE();\n",
    "obtained\n",
    "print(erode.getPartitionString(obtained))"
   ]
  },
  {
   "cell_type": "code",
   "execution_count": 80,
   "id": "7b469833-de6e-4370-9f8f-a80a34b970cc",
   "metadata": {},
   "outputs": [
    {
     "name": "stdout",
     "output_type": "stream",
     "text": [
      "We have loaded model MI.ode\n",
      "MI.ode: 8 parameters, 8 reactions, 6 species.\n",
      "Parameters:\n",
      "[k1 1.0, k2 1.0, k3 1.0, k4 1.0, p1 1.0, p2 1.0, p3 1.0, p4 1.0]\n",
      "Species:\n",
      "[Y0, Z0, Y1, Z1, Y2, Z2]\n",
      " Reactions:\n",
      "[Y0+Z0-- (k1) -->Z0+Y1, Z0+Y1-- (k2) -->Z0+Y2, Y0+Y2-- (k3) -->Y0+Y1, Y0+Y1-- (k4) -->2*Y0, Z0+Z2-- (k1) -->Z0+Z1, Z0+Z1-- (k2) -->2*Z0, Y0+Z0-- (k3) -->Y0+Z1, Y0+Z1-- (k4) -->Y0+Z2]\n",
      "\n",
      "BE reduction of MI\n",
      "The partition has 1 block out of 6 species:\n",
      "Block 1, Size: 6\n",
      "0-Y0 \n",
      "1-Z0 \n",
      "2-Y1 \n",
      "3-Z1 \n",
      "4-Y2 \n",
      "5-Z2 \n",
      "\n"
     ]
    }
   ],
   "source": [
    "erode.loadModel(\"MI.ode\")\n",
    "print('We have loaded model',erode.getModelName())\n",
    "print(erode.getModelString())\n",
    "obtained = erode.computeBE();\n",
    "\n",
    "print()\n",
    "print(\"BE reduction of MI\")\n",
    "print(erode.getPartitionString(obtained))"
   ]
  },
  {
   "cell_type": "code",
   "execution_count": 81,
   "id": "ce68116f-1254-475f-8f9f-a5fc1ee4bfaf",
   "metadata": {},
   "outputs": [
    {
     "name": "stdout",
     "output_type": "stream",
     "text": [
      "We have loaded model kaic.ode\n",
      "kaic.ode: 6 parameters, 8 reactions, 4 species.\n",
      "Parameters:\n",
      "[k1 0.5, k2 1, p1 1.0, p2 1.0, p3 1.0, p4 1.0]\n",
      "Species:\n",
      "[OO, PP, OP, PO]\n",
      " Reactions:\n",
      "[OO+PP-- (k1) -->PP+OP, PP+OP-- (k2) -->2*PP, OO+PP-- (k1) -->OO+OP, OO+OP-- (k2) -->2*OO, OO+PP-- (k1) -->PP+PO, PP+PO-- (k2) -->2*PP, OO+PP-- (k1) -->OO+PO, OO+PO-- (k2) -->2*OO]\n",
      "\n",
      "FE reduction of KAIC\n",
      "The partition has 1 block out of 4 species:\n",
      "Block 1, Size: 4\n",
      "0-OO \n",
      "1-PP \n",
      "2-OP \n",
      "3-PO \n",
      "\n",
      "\n"
     ]
    }
   ],
   "source": [
    "erode.loadModel(\"kaic.ode\")\n",
    "print('We have loaded model',erode.getModelName())\n",
    "print(erode.getModelString())\n",
    "\n",
    "print()\n",
    "obtained = erode.computeFE();\n",
    "print(\"FE reduction of KAIC\")\n",
    "print(erode.getPartitionString(obtained))\n",
    "\n",
    "print()\n",
    "erode.simulateODE(1.0,100,\"kaic.csv\")"
   ]
  },
  {
   "cell_type": "markdown",
   "id": "fe407ac5-5df5-4302-a1c4-6088331eb3cb",
   "metadata": {},
   "source": [
    "#### Lists & arrays: From java to python and viceversa"
   ]
  },
  {
   "cell_type": "code",
   "execution_count": 82,
   "id": "403be6d6-4be5-4c4b-bc4e-8fec53266475",
   "metadata": {},
   "outputs": [
    {
     "name": "stdout",
     "output_type": "stream",
     "text": [
      "[1, 1, 2]\n",
      "[1.0, 1.0, 2.0]\n"
     ]
    }
   ],
   "source": [
    "#Convert a python list of int to a java array of int\n",
    "#  This allows to specify custom initial partitions\n",
    "array_java=erodeHandler.py_to_j_list([1,1,2])\n",
    "\n",
    "#Convert a java array of int to a python list of int\n",
    "#  This allows to use in python a partition computed by ERODE\n",
    "py_list_int=erodeHandler.j_to_py_list(array_java,int)\n",
    "print(py_list_int)\n",
    "\n",
    "py_list_float=erodeHandler.j_to_py_list(array_java,float)\n",
    "print(py_list_float)"
   ]
  },
  {
   "cell_type": "markdown",
   "id": "f51485f9",
   "metadata": {},
   "source": [
    "### Import and approximate Affine systems"
   ]
  },
  {
   "cell_type": "code",
   "execution_count": 83,
   "id": "7d8bfa15",
   "metadata": {},
   "outputs": [
    {
     "name": "stdout",
     "output_type": "stream",
     "text": [
      "The loaded model has 3 variables\n",
      "test2_pert.csv: 3 parameters, 3 reactions, 3 species.\n",
      "Parameters:\n",
      "[p0 1.0, p1 1.0, p2 0.1]\n",
      "Species:\n",
      "[S0, S1, S2]\n",
      " Reactions:\n",
      "[S1-- (p0) -->S0+S1, S2-- (p1) -->S0+S2, S0-- (p2) -->S0+S1]\n"
     ]
    }
   ],
   "source": [
    "erode.importAffine(\"test2_pert.csv\",\"test2B.csv\",True)\n",
    "nVars=erode.getVariablesNum()\n",
    "print('The loaded model has',nVars,'variables')\n",
    "print(erode.getModelString())"
   ]
  },
  {
   "cell_type": "markdown",
   "id": "8c300967",
   "metadata": {},
   "source": [
    "#### No exact reduction with BE"
   ]
  },
  {
   "cell_type": "code",
   "execution_count": 84,
   "id": "9f00e3bb",
   "metadata": {},
   "outputs": [
    {
     "name": "stdout",
     "output_type": "stream",
     "text": [
      "ERODE will use the following pre_partition\n",
      "The partition has 2 blocks out of 3 species:\n",
      "Block 1, Size: 1\n",
      "0-S0 \n",
      "\n",
      "Block 2, Size: 2\n",
      "1-S1 \n",
      "2-S2 \n",
      "\n",
      "The initial partition has 2 blocks\n",
      "\n",
      "This is the obtained partition\n",
      "The partition has 3 blocks out of 3 species:\n",
      "Block 1, Size: 1\n",
      "0-S0 \n",
      "\n",
      "Block 2, Size: 1\n",
      "1-S1 \n",
      "\n",
      "Block 3, Size: 1\n",
      "2-S2 \n",
      "\n"
     ]
    }
   ],
   "source": [
    "pre_part=erodeHandler.py_to_j_list([1,2,2])\n",
    "\n",
    "print(\"ERODE will use the following pre_partition\")\n",
    "print(erode.getPartitionString(pre_part))\n",
    "\n",
    "n_blocks=erode.getNumberOfBlocks(pre_part)\n",
    "print(\"The initial partition has\",n_blocks,\"blocks\\n\")\n",
    "\n",
    "obtained_prep = erode.computeBE(pre_part);\n",
    "#obtained_prep\n",
    "print(\"This is the obtained partition\")\n",
    "print(erode.getPartitionString(obtained_prep))"
   ]
  },
  {
   "cell_type": "markdown",
   "id": "9307cc59",
   "metadata": {},
   "source": [
    "#### We reduce with eps-BE"
   ]
  },
  {
   "cell_type": "code",
   "execution_count": 85,
   "id": "85be7d0f",
   "metadata": {},
   "outputs": [
    {
     "name": "stdout",
     "output_type": "stream",
     "text": [
      "ERODE will use the following pre_partition\n",
      "The partition has 2 blocks out of 3 species:\n",
      "Block 1, Size: 1\n",
      "0-S0 \n",
      "\n",
      "Block 2, Size: 2\n",
      "1-S1 \n",
      "2-S2 \n",
      "\n",
      "The initial partition has 2 blocks\n",
      "\n",
      "This is the obtained partition\n",
      "The partition has 2 blocks out of 3 species:\n",
      "Block 1, Size: 1\n",
      "0-S0 \n",
      "\n",
      "Block 2, Size: 2\n",
      "1-S1 \n",
      "2-S2 \n",
      "\n",
      "\n",
      "\n",
      "ERODE will use the default pre_partition\n",
      "This is the obtained partition\n",
      "The partition has 2 blocks out of 3 species:\n",
      "Block 1, Size: 1\n",
      "0-S0 \n",
      "\n",
      "Block 2, Size: 2\n",
      "1-S1 \n",
      "2-S2 \n",
      "\n"
     ]
    }
   ],
   "source": [
    "pre_part=erodeHandler.py_to_j_list([1,2,2])\n",
    "print(\"ERODE will use the following pre_partition\")\n",
    "print(erode.getPartitionString(pre_part))\n",
    "\n",
    "n_blocks=erode.getNumberOfBlocks(pre_part)\n",
    "print(\"The initial partition has\",n_blocks,\"blocks\\n\")\n",
    "\n",
    "obtained_prep = erode.approxBE(0.1,pre_part,\"p0;p1;p2\");\n",
    "#obtained_prep\n",
    "print(\"This is the obtained partition\")\n",
    "print(erode.getPartitionString(obtained_prep))\n",
    "\n",
    "print()\n",
    "print()\n",
    "\n",
    "print(\"ERODE will use the default pre_partition\")\n",
    "obtained_prep = erode.approxBE(0.1,\"p0;p1;p2\")\n",
    "#obtained_prep\n",
    "print(\"This is the obtained partition\")\n",
    "print(erode.getPartitionString(obtained_prep))"
   ]
  },
  {
   "cell_type": "markdown",
   "id": "5f62c373",
   "metadata": {},
   "source": [
    "##### What is the minimal change we can apply to the parameters to make the approx BE a BE? We consider the parameters given when running approxBE\n"
   ]
  },
  {
   "cell_type": "code",
   "execution_count": 86,
   "id": "e448da5f",
   "metadata": {},
   "outputs": [
    {
     "name": "stdout",
     "output_type": "stream",
     "text": [
      "A\n",
      "[[0.0, 1.0, -1.0, 0.0, 0.0, 0.0], [0.0, 0.0, 0.0, 0.0, 0.0, 1.0]]\n",
      "B\n",
      "[0.0, 0.0]\n",
      "We now find the optimal solution\n",
      "     pcost       dcost       gap    pres   dres\n",
      " 0: -1.0000e+00 -1.0000e+00  2e+00  1e+00  0e+00\n",
      " 1: -1.0000e+00 -1.0000e+00  2e-02  1e-02  0e+00\n",
      " 2: -1.0000e+00 -1.0000e+00  2e-04  1e-04  0e+00\n",
      " 3: -1.0000e+00 -1.0000e+00  2e-06  1e-06  0e+00\n",
      " 4: -1.0000e+00 -1.0000e+00  2e-08  1e-08  0e+00\n",
      "Optimal solution found.\n",
      "S0 = 0.0\n",
      "S1 = 0.0\n",
      "S2 = 0.0\n",
      "p0 = 1.0\n",
      "p1 = 1.0\n",
      "p2 = 0.0\n"
     ]
    }
   ],
   "source": [
    "#p0Opt=erodeHandler.computeParamsToMakeApprox_BE_FE(True)\n",
    "p0Opt=erodeHandler.computeParamsToMakeApprox_BE()\n",
    "#p0Opt"
   ]
  },
  {
   "cell_type": "markdown",
   "id": "6aa03b6a-c1eb-4106-8042-c24d4e9fc57a",
   "metadata": {},
   "source": [
    "#### We reduce with FE"
   ]
  },
  {
   "cell_type": "code",
   "execution_count": 87,
   "id": "48ca692e-cdfc-4d55-a943-9e81c6141f08",
   "metadata": {},
   "outputs": [
    {
     "name": "stdout",
     "output_type": "stream",
     "text": [
      "ERODE will use the following pre_partition\n",
      "The partition has 2 blocks out of 3 species:\n",
      "Block 1, Size: 1\n",
      "0-S0 \n",
      "\n",
      "Block 2, Size: 2\n",
      "1-S1 \n",
      "2-S2 \n",
      "\n",
      "The initial partition has 2 blocks\n",
      "\n",
      "This is the obtained partition\n",
      "The partition has 2 blocks out of 3 species:\n",
      "Block 1, Size: 1\n",
      "0-S0 \n",
      "\n",
      "Block 2, Size: 2\n",
      "1-S1 \n",
      "2-S2 \n",
      "\n"
     ]
    }
   ],
   "source": [
    "pre_part=erodeHandler.py_to_j_list([1,2,2])\n",
    "\n",
    "print(\"ERODE will use the following pre_partition\")\n",
    "print(erode.getPartitionString(pre_part))\n",
    "\n",
    "n_blocks=erode.getNumberOfBlocks(pre_part)\n",
    "print(\"The initial partition has\",n_blocks,\"blocks\\n\")\n",
    "\n",
    "obtained_prep = erode.computeFE(pre_part);\n",
    "#obtained_prep\n",
    "print(\"This is the obtained partition\")\n",
    "print(erode.getPartitionString(obtained_prep))"
   ]
  },
  {
   "cell_type": "markdown",
   "id": "0f1fb4b0",
   "metadata": {},
   "source": [
    "### Import and approximate general ODEs"
   ]
  },
  {
   "cell_type": "code",
   "execution_count": 88,
   "id": "f477e8a0",
   "metadata": {},
   "outputs": [
    {
     "name": "stdout",
     "output_type": "stream",
     "text": [
      "test2_pert2.ode: 2 parameters, 2 reactions, 2 species.\n",
      "Parameters:\n",
      "[p1 1.0, p2 1.1]\n",
      "Species:\n",
      "[S1, S2]\n",
      " Reactions:\n",
      "[S1-- (p1) -->2*S1, S2-- (p2) -->2*S2]\n"
     ]
    }
   ],
   "source": [
    "erode.loadModel(\"test2_pert2.ode\")\n",
    "print(erode.getModelString())"
   ]
  },
  {
   "cell_type": "markdown",
   "id": "89eb0394",
   "metadata": {},
   "source": [
    "#### No reduction with BE"
   ]
  },
  {
   "cell_type": "code",
   "execution_count": 89,
   "id": "6640b304",
   "metadata": {},
   "outputs": [
    {
     "name": "stdout",
     "output_type": "stream",
     "text": [
      "This is the obtained partition\n",
      "The partition has 2 blocks out of 2 species:\n",
      "Block 1, Size: 1\n",
      "0-S1 \n",
      "\n",
      "Block 2, Size: 1\n",
      "1-S2 \n",
      "\n"
     ]
    }
   ],
   "source": [
    "obtained_prep=erode.computeBE()\n",
    "print(\"This is the obtained partition\")\n",
    "print(erode.getPartitionString(obtained_prep))"
   ]
  },
  {
   "cell_type": "markdown",
   "id": "8eec28ab",
   "metadata": {},
   "source": [
    "#### We reduce with eps-BE"
   ]
  },
  {
   "cell_type": "code",
   "execution_count": 90,
   "id": "5d295ab0",
   "metadata": {},
   "outputs": [
    {
     "name": "stdout",
     "output_type": "stream",
     "text": [
      "We want to perturb p1 and p2 (all parameters in the model)\n",
      "This is the obtained partition\n",
      "The partition has 1 block out of 2 species:\n",
      "Block 1, Size: 2\n",
      "0-S1 \n",
      "1-S2 \n",
      "\n",
      "A\n",
      "[[1.0, -1.0, 0.0, 0.0], [0.0, 0.0, 1.0, -1.0]]\n",
      "B\n",
      "[0.0, 0.0]\n",
      "We now find the optimal solution\n",
      "     pcost       dcost       gap    pres   dres\n",
      " 0: -1.1025e+00 -1.1025e+00  2e+00  1e+00  7e-18\n",
      " 1: -1.1025e+00 -1.1025e+00  2e-02  1e-02  0e+00\n",
      " 2: -1.1025e+00 -1.1025e+00  2e-04  1e-04  0e+00\n",
      " 3: -1.1025e+00 -1.1025e+00  2e-06  1e-06  0e+00\n",
      " 4: -1.1025e+00 -1.1025e+00  2e-08  1e-08  0e+00\n",
      "Optimal solution found.\n",
      "S1 = 0.0\n",
      "S2 = 0.0\n",
      "p1 = 1.05\n",
      "p2 = 1.05\n"
     ]
    }
   ],
   "source": [
    "print('We want to perturb p1 and p2 (all parameters in the model)')\n",
    "obtained_prep = erode.approxBE(0.1,\"p1;p2\");\n",
    "print(\"This is the obtained partition\")\n",
    "print(erode.getPartitionString(obtained_prep))\n",
    "\n",
    "p0Opt=erodeHandler.computeParamsToMakeApprox_BE_FE(True)"
   ]
  },
  {
   "cell_type": "code",
   "execution_count": 91,
   "id": "2c3392cb",
   "metadata": {},
   "outputs": [
    {
     "name": "stdout",
     "output_type": "stream",
     "text": [
      "We want to perturb ALL parameters in the model (p1 and p2)\n",
      "This is the obtained partition\n",
      "The partition has 1 block out of 2 species:\n",
      "Block 1, Size: 2\n",
      "0-S1 \n",
      "1-S2 \n",
      "\n",
      "A\n",
      "[[1.0, -1.0, 0.0, 0.0], [0.0, 0.0, 1.0, -1.0]]\n",
      "B\n",
      "[0.0, 0.0]\n",
      "We now find the optimal solution\n",
      "     pcost       dcost       gap    pres   dres\n",
      " 0: -1.1025e+00 -1.1025e+00  2e+00  1e+00  7e-18\n",
      " 1: -1.1025e+00 -1.1025e+00  2e-02  1e-02  0e+00\n",
      " 2: -1.1025e+00 -1.1025e+00  2e-04  1e-04  0e+00\n",
      " 3: -1.1025e+00 -1.1025e+00  2e-06  1e-06  0e+00\n",
      " 4: -1.1025e+00 -1.1025e+00  2e-08  1e-08  0e+00\n",
      "Optimal solution found.\n",
      "S1 = 0.0\n",
      "S2 = 0.0\n",
      "p1 = 1.05\n",
      "p2 = 1.05\n"
     ]
    }
   ],
   "source": [
    "print('We want to perturb ALL parameters in the model (p1 and p2)')\n",
    "obtained_prep = erode.approxBE(0.1,\"ALL\");\n",
    "print(\"This is the obtained partition\")\n",
    "print(erode.getPartitionString(obtained_prep))\n",
    "\n",
    "p0Opt=erodeHandler.computeParamsToMakeApprox_BE_FE(True)"
   ]
  },
  {
   "cell_type": "markdown",
   "id": "9331a987-0ad5-4da6-94ba-6595f2f78e62",
   "metadata": {},
   "source": [
    "#### No reduction with FE"
   ]
  },
  {
   "cell_type": "code",
   "execution_count": 92,
   "id": "f28ee817-909d-480c-8efb-e7c7f7aa2b94",
   "metadata": {},
   "outputs": [
    {
     "name": "stdout",
     "output_type": "stream",
     "text": [
      "This is the obtained partition\n",
      "The partition has 2 blocks out of 2 species:\n",
      "Block 1, Size: 1\n",
      "0-S1 \n",
      "\n",
      "Block 2, Size: 1\n",
      "1-S2 \n",
      "\n"
     ]
    }
   ],
   "source": [
    "obtained_prep=erode.computeFE()\n",
    "print(\"This is the obtained partition\")\n",
    "print(erode.getPartitionString(obtained_prep))"
   ]
  },
  {
   "cell_type": "markdown",
   "id": "7b6a56e3-00fc-4fd4-9041-e2f5fd18ea27",
   "metadata": {},
   "source": [
    "#### We reduce with eps-FE"
   ]
  },
  {
   "cell_type": "code",
   "execution_count": 96,
   "id": "f2160ee2-b804-4008-b059-247393e3181b",
   "metadata": {},
   "outputs": [
    {
     "name": "stdout",
     "output_type": "stream",
     "text": [
      "We want to perturb p1 and p2 (all parameters in the model)\n",
      "This is the obtained partition\n",
      "The partition has 1 block out of 2 species:\n",
      "Block 1, Size: 2\n",
      "0-S1 \n",
      "1-S2 \n",
      "\n",
      "A\n",
      "[[0.0, 0.0], [-1.0, 1.0]]\n",
      "B\n",
      "[0.0, 0.0]\n",
      "We now find the optimal solution\n",
      "The optimization problem could not be solved. Likely the matrix A is not full rank.\n",
      " Error message:  Rank(A) < p or Rank([P; A; G]) < n\n"
     ]
    }
   ],
   "source": [
    "print('We want to perturb p1 and p2 (all parameters in the model)')\n",
    "obtained_prep = erode.approxFE(0.5,\"p1;p2\");\n",
    "print(\"This is the obtained partition\")\n",
    "print(erode.getPartitionString(obtained_prep))\n",
    "\n",
    "p0Opt=erodeHandler.computeParamsToMakeApprox_FE()"
   ]
  },
  {
   "cell_type": "code",
   "execution_count": 95,
   "id": "4dcafab5-446b-4e44-8985-926493ff8b9a",
   "metadata": {},
   "outputs": [
    {
     "name": "stdout",
     "output_type": "stream",
     "text": [
      "We want to perturb ALL parameters in the model (p1 and p2)\n",
      "This is the obtained partition\n",
      "The partition has 1 block out of 2 species:\n",
      "Block 1, Size: 2\n",
      "0-S1 \n",
      "1-S2 \n",
      "\n",
      "A\n",
      "[[0.0, 0.0], [-1.0, 1.0]]\n",
      "B\n",
      "[0.0, 0.0]\n",
      "We now find the optimal solution\n",
      "The optimization problem could not be solved. Likely the matrix A is not full rank.\n",
      " Error message:  Rank(A) < p or Rank([P; A; G]) < n\n"
     ]
    }
   ],
   "source": [
    "print('We want to perturb ALL parameters in the model (p1 and p2)')\n",
    "obtained_prep = erode.approxFE(0.5,\"ALL\");\n",
    "print(\"This is the obtained partition\")\n",
    "print(erode.getPartitionString(obtained_prep))\n",
    "\n",
    "erodeHandler.computeParamsToMakeApprox_FE()"
   ]
  },
  {
   "cell_type": "markdown",
   "id": "3f52a77b-de10-4e0e-80f1-36ad33a25716",
   "metadata": {
    "tags": []
   },
   "source": [
    "### Simulate ODEs"
   ]
  },
  {
   "cell_type": "code",
   "execution_count": null,
   "id": "6916740f-6680-4862-a6c3-c31873bef8b1",
   "metadata": {},
   "outputs": [],
   "source": [
    "#Load the KAIC model https://www.ncbi.nlm.nih.gov/pmc/articles/PMC6244770/\n",
    "# we use a variant with all parameters set to one\n",
    "erode.loadModel(\"kaic.ode\")\n",
    "print('We have loaded model',erode.getModelName())\n",
    "print(erode.getModelString())\n",
    "\n",
    "print()\n",
    "#simulate with time horizon 1, and provide 100 steps in the csv file\n",
    "erode.simulateODE(1.0,100,\"kaic\")\n",
    "df_csv=pd.read_csv(\"kaic.cdat\")\n",
    "\n",
    "#clean csv\n",
    "df_csv=df_csv.iloc[:, :-1]\n",
    "df_csv.set_index(\"# time\",drop=True,inplace=True)\n",
    "\n",
    "df_csv"
   ]
  },
  {
   "cell_type": "code",
   "execution_count": null,
   "id": "15b03532-fa52-4cdc-8f31-67036b96e51b",
   "metadata": {},
   "outputs": [],
   "source": [
    "df_csv.plot()"
   ]
  },
  {
   "cell_type": "markdown",
   "id": "256eff9f-95c9-4fa5-b3ce-75cb55561db8",
   "metadata": {},
   "source": [
    "## Terminate ERODE and JVM"
   ]
  },
  {
   "cell_type": "code",
   "execution_count": 18,
   "id": "09c10be2-544d-4a32-959c-e82e9990e720",
   "metadata": {},
   "outputs": [
    {
     "name": "stdout",
     "output_type": "stream",
     "text": [
      "Terminating JVM and ERODE\n",
      " Completed\n"
     ]
    }
   ],
   "source": [
    "#Do not forget to close ERODE and the JVM when you are done\n",
    "erodeHandler._stop_server()"
   ]
  }
 ],
 "metadata": {
  "kernelspec": {
   "display_name": "env_research",
   "language": "python",
   "name": "env_research"
  },
  "language_info": {
   "codemirror_mode": {
    "name": "ipython",
    "version": 3
   },
   "file_extension": ".py",
   "mimetype": "text/x-python",
   "name": "python",
   "nbconvert_exporter": "python",
   "pygments_lexer": "ipython3",
   "version": "3.9.10"
  },
  "toc-autonumbering": true
 },
 "nbformat": 4,
 "nbformat_minor": 5
}
