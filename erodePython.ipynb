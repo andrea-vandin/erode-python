{
 "cells": [
  {
   "cell_type": "markdown",
   "id": "15fb4090-e721-4c83-97d7-9565842699e0",
   "metadata": {},
   "source": [
    "# Install libraries"
   ]
  },
  {
   "cell_type": "code",
   "execution_count": null,
   "id": "cc2ebaac-ba01-4b55-93f8-51ad33e8ec86",
   "metadata": {},
   "outputs": [],
   "source": [
    "%pip install --upgrade pip\n",
    "%pip install matplotlib\n",
    "%pip install pandas\n",
    "%pip install py4j\n",
    "%pip install scipy\n",
    "\n",
    "%pip install cvxopt\n",
    "\n",
    "%pip install networkx\n",
    "\n",
    "#%pip install seaborn"
   ]
  },
  {
   "cell_type": "markdown",
   "id": "4eecf02c-11d3-43cd-9287-281e5c04983e",
   "metadata": {
    "tags": []
   },
   "source": [
    "# Handle Java Virtual Machines"
   ]
  },
  {
   "cell_type": "markdown",
   "id": "220f4b46-ac30-41d6-8e95-96b31f88d96c",
   "metadata": {},
   "source": [
    "## Import libraries to run/terminate JVM"
   ]
  },
  {
   "cell_type": "code",
   "execution_count": 1,
   "id": "6e9e9ef2-897b-4e47-b5f8-a60a2ab90df2",
   "metadata": {},
   "outputs": [],
   "source": [
    "from contextlib import closing\n",
    "import os\n",
    "import sys\n",
    "import platform\n",
    "import socket\n",
    "import subprocess\n",
    "from subprocess import PIPE\n",
    "import tempfile\n",
    "import pandas as pd\n",
    "import time\n",
    "\n",
    "import networkx as nx\n",
    "\n",
    "import matplotlib.pyplot as plt\n",
    "\n",
    "#import seaborn as sns\n",
    "#sns.set_theme()\n",
    "\n",
    "import numpy as np\n",
    "\n",
    "#to send bytearrays to Java\n",
    "import array\n",
    "\n",
    "from py4j.java_gateway import JavaGateway, GatewayParameters\n",
    "from py4j.java_collections import ListConverter\n",
    "\n",
    "import scipy\n",
    "\n",
    "from datetime import datetime\n",
    "\n",
    "from math import sqrt\n",
    "from cvxopt import matrix\n",
    "from cvxopt.blas import dot\n",
    "from cvxopt.solvers import qp\n",
    "#help(qp)"
   ]
  },
  {
   "cell_type": "markdown",
   "id": "8be0b455",
   "metadata": {},
   "source": [
    "# Download the latest version of the ERODE library"
   ]
  },
  {
   "cell_type": "code",
   "execution_count": null,
   "id": "86afa9ec",
   "metadata": {},
   "outputs": [],
   "source": [
    "import urllib.request\n",
    "from pathlib import Path\n",
    "\n",
    "base_url=\"https://www.erode.eu/distr/erode_python/\"\n",
    "files=[\"erode.jar\",\"AM.ode\",\"kaic.ode\",\"MI.ode\",\"test2.csv\",\"test2B.csv\",\"test2_pert2.csv\",\"test2_pert2.ode\",\"test2_pert.ode\",\"test2_pert.csv\",\"USAir.edgelist\",\"film.edgelist\",\"example.edgelist\",\"EUAir.edgelist\",\"BrazilAir.edgelist\",\"actor.edgelist\"]\n",
    "\n",
    "for file in files:\n",
    "    url=base_url+file\n",
    "    urllib.request.urlretrieve(url,Path(url).name)"
   ]
  },
  {
   "cell_type": "markdown",
   "id": "0d5230cc-8360-4fc8-a351-bf7d6bbd21db",
   "metadata": {},
   "source": [
    "## Define functions to run/terminate JVM"
   ]
  },
  {
   "cell_type": "code",
   "execution_count": 2,
   "id": "6ebb286c-0579-4095-9125-65758c1ec9da",
   "metadata": {},
   "outputs": [],
   "source": [
    "class ErodeHandler:\n",
    "    ## Specify path to java JDK\n",
    "    #Default string. Can be changed using the constructor of erodeHandler\n",
    "    #__JAVA_PATH__=\"/Library/Java/JavaVirtualMachines/jdk-11.0.14.jdk/Contents/Home/bin/java\"\n",
    "    #__JAVA_PATH__=\"/usr/lib/jvm/java-8-openjdk-amd64/Contents/Home/bin/java\"\n",
    "    __JAVA_PATH__=\"java\"\n",
    "    __IN_COLAB__ = False #'google.colab' in sys.modules\n",
    "\n",
    "    ## Specify path to java JDK\n",
    "    #Default string. \n",
    "    __ERODE_JAR__ = \"erode.jar\" #os.path.join(os.path.dirname(__file__), \"erode.jar\")\n",
    "\n",
    "    ## Specify whether a new JVM shall be created, or whether we shall connect to an existing one\n",
    "    # Do not change\n",
    "    __STARTJVM__ = True\n",
    "    \n",
    "    def __init__(self,j_path=__JAVA_PATH__):\n",
    "        self._java_path=j_path\n",
    "        self.erode_jar=ErodeHandler.__ERODE_JAR__\n",
    "        if ErodeHandler.__IN_COLAB__:\n",
    "          print('I install java')\n",
    "          self._install_java()\n",
    "\n",
    "    def _install_java(self):\n",
    "      !apt-get install -y openjdk-8-jdk-headless -qq > /dev/null      #install openjdk\n",
    "      os.environ[\"JAVA_HOME\"] = \"/usr/lib/jvm/java-8-openjdk-amd64\"     #set environment variable\n",
    "      #!java -version       #check java version\n",
    "      ErodeHandler.__JAVA_PATH__=\"java\"\n",
    "      \n",
    "\n",
    "    def _start_server(self):\n",
    "        # find a free port\n",
    "        for port in range(25333, 65545):\n",
    "            with closing(socket.socket(socket.AF_INET, socket.SOCK_STREAM)) as s:\n",
    "                dest_addr = (\"127.0.0.1\", port)\n",
    "                if s.connect_ex(dest_addr):\n",
    "                    break\n",
    "\n",
    "        #ld_path = __ERODE_LIB_DIR__\n",
    "        ld_path='native/osx'\n",
    "        #java=\"java\"\n",
    "        java =self._java_path\n",
    "        argv = [java, f'-Djava.library.path=\"{ld_path}\"',\n",
    "                    \"-jar\", self.erode_jar, str(port)]\n",
    "        #print(\"argv\",argv)\n",
    "        if platform.system() == \"Linux\":\n",
    "            env_ld_path = os.getenv(\"LD_LIBRARY_PATH\")\n",
    "            if env_ld_path:\n",
    "                ld_path = f\"{ld_path}:{env_ld_path}\"\n",
    "            env ={\"LD_LIBRARY_PATH\": ld_path}\n",
    "            proc = subprocess.Popen(\" \".join(argv), stdout=PIPE,\n",
    "                    shell=True, env=env)\n",
    "        else:\n",
    "            proc = subprocess.Popen(argv, stdout=PIPE)\n",
    "        proc.stdout.readline()\n",
    "\n",
    "        self._proc=proc\n",
    "        self._port=port\n",
    "\n",
    "        time.sleep(1) # Sleep for 1 second\n",
    "        return #proc, port\n",
    "\n",
    "    def _stop_server(self):\n",
    "        if ErodeHandler.__STARTJVM__:\n",
    "            print('Terminating JVM and ERODE')\n",
    "            time.sleep(1) # Sleep for 1 second\n",
    "            self._proc.terminate()\n",
    "            try:\n",
    "                self._proc.wait(5)\n",
    "            except subprocess.TimeoutExpired:\n",
    "                self._proc.kill()\n",
    "                self._proc.wait()\n",
    "            print(' Completed')\n",
    "        else:\n",
    "            print('Nothing to terminate')\n",
    "\n",
    "    def start_JVM(self):\n",
    "        print('Starting the JVM and ERODE')\n",
    "        if ErodeHandler.__STARTJVM__:\n",
    "            #self._proc, self._port = _start_server()\n",
    "            self._start_server()\n",
    "        else:\n",
    "            self._proc =-1\n",
    "            self._port =25347\n",
    "        gw_params = GatewayParameters(port=self._port)#, auto_convert=True)\n",
    "        self._gw = JavaGateway(gateway_parameters=gw_params)\n",
    "\n",
    "        self.int_class   =self._gw.jvm.int    # make int class\n",
    "        self.double_class=self._gw.jvm.double # make double class\n",
    "        self.erode = self._gw.entry_point\n",
    "        #print(_proc)\n",
    "        #_port\n",
    "        print('  Completed')\n",
    "        return self.erode #,self._proc,self._port\n",
    "            \n",
    "    def j_to_py_matrix(self,metrics_java):\n",
    "        metrics_python= [ list(line) for line in metrics_java ]\n",
    "        return metrics_python        \n",
    "\n",
    "    def j_to_py_list(self,partition_java,type):\n",
    "        partition_python= [ type(entry) for entry in partition_java ]\n",
    "        return partition_python\n",
    "    \n",
    "    def j_to_py_2dList(self,twoDList_java,type):\n",
    "        twoDList_python= [ [type(entry) for entry in row] for row in twoDList_java ]\n",
    "        return twoDList_python\n",
    "\n",
    "\n",
    "    #Takes in input a list of int created in python. Gives in output a corresponding array of int for java\n",
    "    def py_to_j_list(self,python_int_list):\n",
    "        java_int_array = self._gw.new_array(self.int_class,len(python_int_list))\n",
    "        #double_array = gateway.new_array(self.double_class,1,len(partition_python))\n",
    "\n",
    "        for i in range(len(python_int_list)):\n",
    "            java_int_array[i]=python_int_list[i]\n",
    "        \n",
    "        return java_int_array\n",
    "    \n",
    "    #Takes in input a list of int created in python. Gives in output a corresponding array of int for java\n",
    "    def py_to_j_matrix(self,python_int_matrix):\n",
    "        \n",
    "        java_int_matrix = self._gw.new_array(self.int_class,len(python_int_matrix),len(python_int_matrix))\n",
    "        \n",
    "        for i in range(len(python_int_matrix)):\n",
    "            for j in range(len(python_int_matrix)):\n",
    "                java_int_matrix[i][j]=python_int_matrix[i][j]\n",
    "        \n",
    "        return java_int_matrix\n",
    "    \n",
    "    #Takes in input a list of int created in python. Gives in output a corresponding array of int for java\n",
    "    def py_to_j_list_double(self,python_double_list):\n",
    "        java_double_array = self._gw.new_array(self.double_class,len(python_double_list))\n",
    "\n",
    "        for i in range(len(python_double_list)):\n",
    "            java_double_array[i]=python_double_list[i]\n",
    "        \n",
    "        return java_double_array\n",
    "\n",
    "    # def matrix_to_upper_diagonal(m):\n",
    "    #     l=[]\n",
    "    #     for i in range(len(m)):\n",
    "    #         for j in range(i+1,len(m)):\n",
    "    #             l.append(m[i][j])\n",
    "    #     return l\n",
    "    \n",
    "    def computeParamsToMakeApprox_BE_FE(self,be):\n",
    "        red_name= \"be\"\n",
    "        if not be:\n",
    "            red_name=\"fe\"\n",
    "        if not self.erode.hasLatestAxB():   \n",
    "            print(\"Compute an approx\"+red_name+\" (run approx\"+red_name+\") before searching for parameters that make it an exact \"+red_name)\n",
    "            return\n",
    "\n",
    "        A_java= self.erode.getLatestAxB_A()\n",
    "        A=self.j_to_py_2dList(A_java,float)\n",
    "        print(\"A\")\n",
    "        print(A)\n",
    "\n",
    "        B_java= self.erode.getLatestAxB_B()\n",
    "        B=self.j_to_py_list(B_java,float)\n",
    "        print(\"B\")\n",
    "        print(B)\n",
    "        \n",
    "\n",
    "        p0_java=self.erode.getLatestAxB_p0()\n",
    "        p0=self.j_to_py_list(p0_java,float)\n",
    "        p0_m=matrix(np.array(p0))\n",
    "\n",
    "        eyep0=np.eye(len(p0))\n",
    "        eyep0_m=matrix(np.array(eyep0))\n",
    "        \n",
    "        zerosA=np.zeros((len(A),len(A[0])) )\n",
    "        zerosA_m=matrix(np.array(zerosA))\n",
    "\n",
    "        zerosB=np.zeros((len(B),1))\n",
    "        zerosB_m=matrix(np.array(zerosB))\n",
    "\n",
    "        A_m=matrix(np.array(A))\n",
    "        B_m=matrix(np.array(B))\n",
    "\n",
    "        try:\n",
    "            # #qp(mu*S, -pbar, G, h, A, b)\n",
    "            # #qp(P=eye(size(p0,2)), q=-p0, G=zeros(size(A,1),size(A,2)), h=zeros(1,size(b,2)), A=A, b=b) #, solver, initvals)\n",
    "            print(\"We now find the optimal solution\")\n",
    "            #Rank(A) < p or Rank([P; A; G]) < n\n",
    "            #if(sum(isinf(p) + isnan(p)) > 0 || norm(A*p - b') > (10^-10))\n",
    "            p0_Opt=qp(P=eyep0_m, q=-p0_m, G=zerosA_m, h=zerosB_m, A=A_m, b=B_m) #, solver, initvals)\n",
    "\n",
    "            variables=self.erode.getVariables()\n",
    "            parameters=self.erode.getParameters()\n",
    "            vars_pars=list(variables) + list(parameters)\n",
    "            optimalParams=p0_Opt['x']\n",
    "            for v,p in zip(vars_pars,optimalParams):\n",
    "                print(v,\"=\",p)\n",
    "            return optimalParams\n",
    "        except ValueError as e:\n",
    "            print('The optimization problem could not be solved. Likely the matrix A is not full rank.')\n",
    "            print(\" Error message: \",e)\n",
    "        return None\n",
    "    \n",
    "    #Takes in input a sparse matrix representation with one entry in rows, columns and values (either ndarrays or lists. \n",
    "    def sparse_matrix_to_bytearrays(self,rows,columns,values,values_are_double):\n",
    "        #We took inspiration from:\n",
    "        #https://stackoverflow.com/questions/36453353/using-py4j-to-send-matrices-to-from-python-to-java-as-int-arrays\n",
    "        r_a=array.array('i', rows)\n",
    "        c_a=array.array('i', columns)\n",
    "        if values_are_double:\n",
    "            v_a=array.array('d', values)\n",
    "        else:\n",
    "            v_a=array.array('o', values)\n",
    "        if sys.byteorder != 'big':\n",
    "            r_a.byteswap()\n",
    "            c_a.byteswap()\n",
    "            v_a.byteswap()    \n",
    "\n",
    "        r_a_b=bytearray(r_a.tobytes())\n",
    "        c_a_b=bytearray(c_a.tobytes())\n",
    "        v_a_b=bytearray(v_a.tobytes())\n",
    "\n",
    "        return (r_a_b,c_a_b,v_a_b)\n",
    "    \n",
    "    def computeParamsToMakeApprox_BE(self):\n",
    "        self.computeParamsToMakeApprox_BE_FE(be=True)\n",
    "    \n",
    "    def computeParamsToMakeApprox_FE(self):\n",
    "        self.computeParamsToMakeApprox_BE_FE(be=False)\n",
    "        \n",
    "        \n",
    "    def computeEmbedding(self,A,partition):\n",
    "        maxim = max(partition)\n",
    "        part = [[] for _ in range(maxim)]\n",
    "        for j in range(len(partition)):\n",
    "            part[partition[j]-1].append(j)\n",
    "        part = sorted(part, key=len)\n",
    "        N = len(A)\n",
    "        res = np.zeros((N,maxim))\n",
    "        index = 0\n",
    "        for elem in part:\n",
    "            for el in elem:\n",
    "                res[:,index] = res[:,index] +  A[:,el]\n",
    "            index=index+1\n",
    "        return res"
   ]
  },
  {
   "cell_type": "markdown",
   "id": "afaa3e5b-c139-4820-85cb-3483268ffc00",
   "metadata": {
    "tags": []
   },
   "source": [
    "# Use ERODE"
   ]
  },
  {
   "cell_type": "markdown",
   "id": "d812607e-a29b-4fe0-bc1b-143f78afd004",
   "metadata": {},
   "source": [
    "## Start ERODE and VM"
   ]
  },
  {
   "cell_type": "code",
   "execution_count": 3,
   "id": "1a104240-e38b-4f65-b122-b6520c8db5f9",
   "metadata": {},
   "outputs": [
    {
     "name": "stdout",
     "output_type": "stream",
     "text": [
      "Starting the JVM and ERODE\n",
      "  Completed\n"
     ]
    },
    {
     "data": {
      "text/plain": [
       "py4j.java_gateway.JavaObject"
      ]
     },
     "execution_count": 3,
     "metadata": {},
     "output_type": "execute_result"
    }
   ],
   "source": [
    "#Always start ERODE on a JVM\n",
    "erodeHandler = ErodeHandler()\n",
    "erode=erodeHandler.start_JVM()\n",
    "type(erode)"
   ]
  },
  {
   "cell_type": "markdown",
   "id": "582b1c51",
   "metadata": {},
   "source": [
    "## Set scale and tolearnce\n",
    "- Scale: the number of digits to be considered when updating counters of BE/FE, default 20\n",
    "- Tolerance: used to compare counters up to a tolerance when splitting blocks (default 1E-scale, e.g. 1E-20)\n",
    "\n",
    "We recommend the use of setScale, that sets tolerance to 1E-scale, connecting scale and tolerance. \n",
    "- For specific needs, one might be interested in having specific tolearnces"
   ]
  },
  {
   "cell_type": "code",
   "execution_count": 28,
   "id": "ca010e06",
   "metadata": {},
   "outputs": [],
   "source": [
    "# set scale to 15, and tolerance to 1E-15\n",
    "#erode.setScale(15)\n",
    "\n",
    "# set scale to 15, and tolerance to 0.5\n",
    "#erode.setSCALEandSpecificTolerance(15,0.5)"
   ]
  },
  {
   "cell_type": "markdown",
   "id": "86bd4ca0-3a99-4cb0-b154-4d3e5b29c5b0",
   "metadata": {},
   "source": [
    "## Tests"
   ]
  },
  {
   "cell_type": "markdown",
   "id": "bc4752fb-ae05-4dbd-a441-b40742f09a51",
   "metadata": {},
   "source": [
    "### Import Affine systems"
   ]
  },
  {
   "cell_type": "markdown",
   "id": "36a3bf55-e2df-4fd8-9db5-30e886b5fa0f",
   "metadata": {},
   "source": [
    "#### From CSV files"
   ]
  },
  {
   "cell_type": "code",
   "execution_count": 15,
   "id": "4efb0ca6-1ca6-4341-8a16-8bf1ed67eda6",
   "metadata": {},
   "outputs": [
    {
     "name": "stdout",
     "output_type": "stream",
     "text": [
      "The loaded model has 3 variables\n",
      "test2.csv: 2 parameters, 2 reactions, 3 species.\n",
      "Parameters:\n",
      "[p0 1.0, p1 1.0]\n",
      "Species:\n",
      "[S0, S1, S2]\n",
      " Reactions:\n",
      "[S1-- (p0) -->S0+S1, S2-- (p1) -->S0+S2]\n"
     ]
    }
   ],
   "source": [
    "erode.importAffine(\"test2.csv\",\"test2B.csv\",True)\n",
    "nVars=erode.getVariablesNum()\n",
    "print('The loaded model has',nVars,'variables')\n",
    "print(erode.getModelString())"
   ]
  },
  {
   "cell_type": "code",
   "execution_count": 114,
   "id": "05e0b8e6-0d6c-4255-abd1-0f7234acc627",
   "metadata": {},
   "outputs": [
    {
     "name": "stdout",
     "output_type": "stream",
     "text": [
      "The loaded model has 3 variables\n",
      "test2_pert2.csv:  2 reactions, 3 species.\n",
      "Species:\n",
      "[S0, S1, S2]\n",
      " Reactions:\n",
      "[S0-- (1.0) -->S0+S1, S0-- (1.1) -->S0+S2]\n"
     ]
    }
   ],
   "source": [
    "erode.importAffine(\"test2_pert2.csv\",\"test2B.csv\",False)\n",
    "nVars=erode.getVariablesNum()\n",
    "print('The loaded model has',nVars,'variables')\n",
    "print(erode.getModelString())"
   ]
  },
  {
   "cell_type": "markdown",
   "id": "7f83c56e-8538-47bc-8485-c5f62c0ac5b0",
   "metadata": {},
   "source": [
    "#### From lists"
   ]
  },
  {
   "cell_type": "code",
   "execution_count": 52,
   "id": "acd4b883-6bc1-4c94-beb0-84679403991a",
   "metadata": {},
   "outputs": [
    {
     "name": "stdout",
     "output_type": "stream",
     "text": [
      "The loaded model has 3 variables\n",
      "fromArrays:  2 reactions, 3 species.\n",
      "Species:\n",
      "[S0, S1, S2]\n",
      " Reactions:\n",
      "[S0-- (1.0) -->S0+S1, S0-- (1.1) -->S0+S2]\n"
     ]
    }
   ],
   "source": [
    "# 3,3,3\n",
    "# 2,1,1\n",
    "# 3,1,1.1\n",
    "num_variables=3\n",
    "rows=[2,3]\n",
    "columns=[1,1]\n",
    "values=[1,1.1]\n",
    "\n",
    "# 0\n",
    "# 0\n",
    "# 0\n",
    "B=[0,0,0]\n",
    "\n",
    "rows_j    = erodeHandler.py_to_j_list(rows)\n",
    "columns_j = erodeHandler.py_to_j_list(columns)\n",
    "values_j  = erodeHandler.py_to_j_list_double(values)\n",
    "B_j  = erodeHandler.py_to_j_list_double(B)\n",
    "\n",
    "erode.importAffine(num_variables, rows_j, columns_j, values_j,B_j);\n",
    "\n",
    "nVars=erode.getVariablesNum()\n",
    "print('The loaded model has',nVars,'variables')\n",
    "print(erode.getModelString())"
   ]
  },
  {
   "cell_type": "markdown",
   "id": "513f7cb1-db84-42f5-b35d-2f8d478d46ad",
   "metadata": {},
   "source": [
    "#### From bytesarray: 1) No mix among int/double allowed 2) For the time being we don't pass B "
   ]
  },
  {
   "cell_type": "code",
   "execution_count": 100,
   "id": "c390216c-6484-424f-8a38-a2147b71ace5",
   "metadata": {},
   "outputs": [
    {
     "name": "stdout",
     "output_type": "stream",
     "text": [
      "The loaded model has 3 variables\n",
      "fromArrays:  2 reactions, 3 species.\n",
      "Species:\n",
      "[S0, S1, S2]\n",
      " Reactions:\n",
      "[S0-- (1.0) -->S0+S1, S0-- (1.1) -->S0+S2]\n"
     ]
    }
   ],
   "source": [
    "# 3,3,3\n",
    "# 2,1,1\n",
    "# 3,1,1.1\n",
    "num_variables=3\n",
    "num_entries=2\n",
    "\n",
    "rows=[2,3]\n",
    "columns=[1,1]\n",
    "\n",
    "#values=[1,1.1] #Values of mixed type are not supported!\n",
    "#values=[1,1]    ; entries_are_doubles=False\n",
    "values=[1.0,1.1] ; entries_are_doubles=True\n",
    "\n",
    "\n",
    "\n",
    "# 0\n",
    "# 0\n",
    "# 0\n",
    "#B=[0,0,0]\n",
    "#since it is zero, we do not pass B\n",
    "\n",
    "(rows_buf,columns_buf,values_buf) = erodeHandler.sparse_matrix_to_bytearrays(rows,columns,values,entries_are_doubles)\n",
    "\n",
    "erode.importAffine(num_variables,num_entries,rows_buf,columns_buf,values_buf,entries_are_doubles);\n",
    "\n",
    "nVars=erode.getVariablesNum()\n",
    "print('The loaded model has',nVars,'variables')\n",
    "print(erode.getModelString())"
   ]
  },
  {
   "cell_type": "markdown",
   "id": "7224050f-fad4-4bf8-911a-502fbd9ceb74",
   "metadata": {},
   "source": [
    "#### Comparing reading arrays vs reading bytes"
   ]
  },
  {
   "cell_type": "code",
   "execution_count": 4,
   "id": "6cf536b8-d286-414a-be8b-4ee639ea1051",
   "metadata": {},
   "outputs": [
    {
     "name": "stdout",
     "output_type": "stream",
     "text": [
      "Whole  time (ms) 150.093\n",
      "Invoke time (ms) 111.536\n"
     ]
    }
   ],
   "source": [
    "num_variables=2\n",
    "num_entries=100000\n",
    "entries_are_doubles=True\n",
    "\n",
    "#To list can be omitted. We can start from lists or nparray\n",
    "r=np.ones(num_entries,dtype=int)#.tolist()\n",
    "c=np.ones(num_entries,dtype=int)#.tolist()\n",
    "v=(np.ones(num_entries)+0.1)#.tolist()\n",
    "\n",
    "begin_ns=time.time_ns()\n",
    "\n",
    "(r_a_b,c_a_b,v_a_b) = erodeHandler.sparse_matrix_to_bytearrays(r,c,v,True)\n",
    "\n",
    "begin_invoke=time.time_ns()\n",
    "erode.importAffine(num_variables,num_entries,r_a_b,c_a_b,v_a_b,entries_are_doubles);\n",
    "end_ns=time.time_ns()\n",
    "whole_time_ns=end_ns-begin_ns\n",
    "invoke_time_ns=end_ns-begin_invoke\n",
    "print(\"Whole  time (ms)\",whole_time_ns/1000000)\n",
    "print(\"Invoke time (ms)\",invoke_time_ns/1000000)"
   ]
  },
  {
   "cell_type": "code",
   "execution_count": 5,
   "id": "5bab05ef-b2dd-431b-aa21-5d1b3f110e0d",
   "metadata": {},
   "outputs": [
    {
     "name": "stdout",
     "output_type": "stream",
     "text": [
      "Whole  time including tolist (ms) 25512.307\n",
      "Whole  time (ms) 25503.005\n",
      "Invoke time (ms) 20.768\n"
     ]
    }
   ],
   "source": [
    "r=np.ones(num_entries,dtype=int)#.tolist()\n",
    "c=np.ones(num_entries,dtype=int)#.tolist()\n",
    "v=(np.ones(num_entries)+0.1)#.tolist()\n",
    "b=np.zeros(num_entries,dtype=int)\n",
    "\n",
    "\n",
    "begin_includingtolist_ns=time.time_ns()\n",
    "\n",
    "r=r.tolist()\n",
    "c=c.tolist()\n",
    "v=v.tolist()\n",
    "b=b.tolist()\n",
    "\n",
    "begin_ns=time.time_ns()\n",
    "rows_j    = erodeHandler.py_to_j_list(r)\n",
    "columns_j = erodeHandler.py_to_j_list(c)\n",
    "values_j  = erodeHandler.py_to_j_list_double(v)\n",
    "B_j  = erodeHandler.py_to_j_list_double(b)\n",
    "\n",
    "begin_invoke=time.time_ns()\n",
    "erode.importAffine(num_variables, rows_j, columns_j, values_j,B_j);\n",
    "end_ns=time.time_ns()\n",
    "\n",
    "whole_time_ns=end_ns-begin_ns\n",
    "invoke_time_ns=end_ns-begin_invoke\n",
    "whole_time_includingtolist_ns=end_ns-begin_includingtolist_ns\n",
    "print(\"Whole  time including tolist (ms)\",whole_time_includingtolist_ns/1000000)\n",
    "print(\"Whole  time (ms)\",whole_time_ns/1000000)\n",
    "print(\"Invoke time (ms)\",invoke_time_ns/1000000)"
   ]
  },
  {
   "cell_type": "markdown",
   "id": "0b54356d-436e-4b14-bf2a-8e564d6012e8",
   "metadata": {},
   "source": [
    "### Import and reduce ODEs"
   ]
  },
  {
   "cell_type": "code",
   "execution_count": 6,
   "id": "36a7e601-59d7-4cfe-9d0f-d848ba53b7e9",
   "metadata": {},
   "outputs": [
    {
     "name": "stdout",
     "output_type": "stream",
     "text": [
      "We have loaded model AM.ode\n",
      "AM.ode: 4 parameters, 4 reactions, 3 species.\n",
      "Parameters:\n",
      "[p1 1.0, p2 1.0, p3 1.0, p4 1.0]\n",
      "Species:\n",
      "[x0, x1, x2]\n",
      " Reactions:\n",
      "[x0+x2-- (p1) -->x1+x2, x0+x2-- (p2) -->x0+x1, x0+x1-- (p3) -->2*x0, x1+x2-- (p4) -->2*x2]\n"
     ]
    }
   ],
   "source": [
    "# Load the AM model https://bmcsystbiol.biomedcentral.com/articles/10.1186/1752-0509-8-84\n",
    "# we use a variant with all parameters set to one\n",
    "erode.loadModel(\"AM.ode\")\n",
    "print('We have loaded model',erode.getModelName())\n",
    "print(erode.getModelString())"
   ]
  },
  {
   "cell_type": "code",
   "execution_count": 7,
   "id": "e1d42f6e-ce52-4c7a-ab23-5fd7c23df3b6",
   "metadata": {},
   "outputs": [
    {
     "name": "stdout",
     "output_type": "stream",
     "text": [
      "\n",
      "<class 'py4j.java_collections.JavaArray'>\n",
      "\n",
      "The partition has 1 block out of 3 species:\n",
      "Block 1, Size: 3\n",
      "0-x0 \n",
      "1-x1 \n",
      "2-x2 \n",
      "\n"
     ]
    }
   ],
   "source": [
    "obtained = erode.computeBE();\n",
    "print()\n",
    "print(type(obtained))\n",
    "print()\n",
    "print(erode.getPartitionString(obtained))"
   ]
  },
  {
   "cell_type": "code",
   "execution_count": 8,
   "id": "a658a0fe-408f-4298-af27-7ceff40158ed",
   "metadata": {},
   "outputs": [
    {
     "name": "stdout",
     "output_type": "stream",
     "text": [
      "The partition has 1 blocks\n"
     ]
    }
   ],
   "source": [
    "n_blocks=erode.getNumberOfBlocks(obtained)\n",
    "print(\"The partition has\",n_blocks,\"blocks\")"
   ]
  },
  {
   "cell_type": "markdown",
   "id": "f8fba5b7-5d57-4ad3-a803-7482eb88a44e",
   "metadata": {},
   "source": [
    "#### We can provide custom prepartitions\n",
    "- E.g., we don't want to mix x2 with the other two variables\n",
    "- We just need to make a pre-pratitiong of the viariables: {{x0,x1},{x2}} \n",
    "- We do this by creating a list of int with one entry per variable. \n",
    "- The int values will denote blocks of the pre-partitions: variables with assigned same number will stay together\n",
    "- E.g, we can encode {{x0,x1},{x2}} as [1,1,2]"
   ]
  },
  {
   "cell_type": "code",
   "execution_count": 9,
   "id": "ba6788ef",
   "metadata": {},
   "outputs": [
    {
     "name": "stdout",
     "output_type": "stream",
     "text": [
      "ERODE will use the following pre_partition\n",
      "The partition has 2 blocks out of 3 species:\n",
      "Block 1, Size: 2\n",
      "0-x0 \n",
      "1-x1 \n",
      "\n",
      "Block 2, Size: 1\n",
      "2-x2 \n",
      "\n",
      "The initial partition has 2 blocks\n",
      "\n",
      "This is the obtained partition\n",
      "The partition has 3 blocks out of 3 species:\n",
      "Block 1, Size: 1\n",
      "0-x0 \n",
      "\n",
      "Block 2, Size: 1\n",
      "1-x1 \n",
      "\n",
      "Block 3, Size: 1\n",
      "2-x2 \n",
      "\n"
     ]
    }
   ],
   "source": [
    "pre_part=erodeHandler.py_to_j_list([1,1,2])\n",
    "\n",
    "print(\"ERODE will use the following pre_partition\")\n",
    "print(erode.getPartitionString(pre_part))\n",
    "\n",
    "n_blocks=erode.getNumberOfBlocks(pre_part)\n",
    "print(\"The initial partition has\",n_blocks,\"blocks\\n\")\n",
    "\n",
    "obtained_prep = erode.computeBE(pre_part);\n",
    "#obtained_prep\n",
    "print(\"This is the obtained partition\")\n",
    "print(erode.getPartitionString(obtained_prep))"
   ]
  },
  {
   "cell_type": "markdown",
   "id": "ac4ee72b-c8e9-4276-b975-7d4da1bcc866",
   "metadata": {},
   "source": [
    "#### We can provide the prepartition written in the model, if any\n"
   ]
  },
  {
   "cell_type": "code",
   "execution_count": 10,
   "id": "f4b0e535-a780-4e74-9912-6a7d64433066",
   "metadata": {},
   "outputs": [
    {
     "name": "stdout",
     "output_type": "stream",
     "text": [
      "ERODE will use the following pre_partition\n",
      "The partition has 2 blocks out of 3 species:\n",
      "Block 1, Size: 2\n",
      "0-x0 \n",
      "2-x2 \n",
      "\n",
      "Block 2, Size: 1\n",
      "1-x1 \n",
      "\n",
      "This is the obtained partition\n",
      "The partition has 2 blocks out of 3 species:\n",
      "Block 1, Size: 2\n",
      "0-x0 \n",
      "2-x2 \n",
      "\n",
      "Block 2, Size: 1\n",
      "1-x1 \n",
      "\n"
     ]
    }
   ],
   "source": [
    "pre_part=erode.getUserDefinedPartition()\n",
    "\n",
    "print(\"ERODE will use the following pre_partition\")\n",
    "print(erode.getPartitionString(pre_part))\n",
    "\n",
    "obtained_prep = erode.computeBE(pre_part);\n",
    "#obtained_prep\n",
    "print(\"This is the obtained partition\")\n",
    "print(erode.getPartitionString(obtained_prep))"
   ]
  },
  {
   "cell_type": "markdown",
   "id": "35001c09-6c33-41e1-a10d-ec42a0684a82",
   "metadata": {},
   "source": [
    "#### Further examples of reduction"
   ]
  },
  {
   "cell_type": "code",
   "execution_count": 11,
   "id": "14a4e2fc-1c8b-42c2-a43f-1673def24b91",
   "metadata": {},
   "outputs": [
    {
     "name": "stdout",
     "output_type": "stream",
     "text": [
      "The partition has 1 block out of 3 species:\n",
      "Block 1, Size: 3\n",
      "0-x0 \n",
      "1-x1 \n",
      "2-x2 \n",
      "\n"
     ]
    }
   ],
   "source": [
    "obtained = erode.computeFE();\n",
    "obtained\n",
    "print(erode.getPartitionString(obtained))"
   ]
  },
  {
   "cell_type": "code",
   "execution_count": 12,
   "id": "7b469833-de6e-4370-9f8f-a80a34b970cc",
   "metadata": {},
   "outputs": [
    {
     "name": "stdout",
     "output_type": "stream",
     "text": [
      "We have loaded model MI.ode\n",
      "MI.ode: 8 parameters, 8 reactions, 6 species.\n",
      "Parameters:\n",
      "[k1 1.0, k2 1.0, k3 1.0, k4 1.0, p1 1.0, p2 1.0, p3 1.0, p4 1.0]\n",
      "Species:\n",
      "[Y0, Z0, Y1, Z1, Y2, Z2]\n",
      " Reactions:\n",
      "[Y0+Z0-- (k1) -->Z0+Y1, Z0+Y1-- (k2) -->Z0+Y2, Y0+Y2-- (k3) -->Y0+Y1, Y0+Y1-- (k4) -->2*Y0, Z0+Z2-- (k1) -->Z0+Z1, Z0+Z1-- (k2) -->2*Z0, Y0+Z0-- (k3) -->Y0+Z1, Y0+Z1-- (k4) -->Y0+Z2]\n",
      "\n",
      "BE reduction of MI\n",
      "The partition has 1 block out of 6 species:\n",
      "Block 1, Size: 6\n",
      "0-Y0 \n",
      "1-Z0 \n",
      "2-Y1 \n",
      "3-Z1 \n",
      "4-Y2 \n",
      "5-Z2 \n",
      "\n"
     ]
    }
   ],
   "source": [
    "erode.loadModel(\"MI.ode\")\n",
    "print('We have loaded model',erode.getModelName())\n",
    "print(erode.getModelString())\n",
    "obtained = erode.computeBE();\n",
    "\n",
    "print()\n",
    "print(\"BE reduction of MI\")\n",
    "print(erode.getPartitionString(obtained))"
   ]
  },
  {
   "cell_type": "code",
   "execution_count": 13,
   "id": "ce68116f-1254-475f-8f9f-a5fc1ee4bfaf",
   "metadata": {},
   "outputs": [
    {
     "name": "stdout",
     "output_type": "stream",
     "text": [
      "We have loaded model kaic.ode\n",
      "kaic.ode: 6 parameters, 8 reactions, 4 species.\n",
      "Parameters:\n",
      "[k1 0.5, k2 1, p1 1.0, p2 1.0, p3 1.0, p4 1.0]\n",
      "Species:\n",
      "[OO, PP, OP, PO]\n",
      " Reactions:\n",
      "[OO+PP-- (k1) -->PP+OP, PP+OP-- (k2) -->2*PP, OO+PP-- (k1) -->OO+OP, OO+OP-- (k2) -->2*OO, OO+PP-- (k1) -->PP+PO, PP+PO-- (k2) -->2*PP, OO+PP-- (k1) -->OO+PO, OO+PO-- (k2) -->2*OO]\n",
      "\n",
      "FE reduction of KAIC\n",
      "The partition has 1 block out of 4 species:\n",
      "Block 1, Size: 4\n",
      "0-OO \n",
      "1-PP \n",
      "2-OP \n",
      "3-PO \n",
      "\n",
      "\n"
     ]
    }
   ],
   "source": [
    "erode.loadModel(\"kaic.ode\")\n",
    "print('We have loaded model',erode.getModelName())\n",
    "print(erode.getModelString())\n",
    "\n",
    "print()\n",
    "obtained = erode.computeFE();\n",
    "print(\"FE reduction of KAIC\")\n",
    "print(erode.getPartitionString(obtained))\n",
    "\n",
    "print()\n",
    "erode.simulateODE(1.0,100,\"kaic.csv\")"
   ]
  },
  {
   "cell_type": "markdown",
   "id": "fe407ac5-5df5-4302-a1c4-6088331eb3cb",
   "metadata": {},
   "source": [
    "#### Lists & arrays: From java to python and viceversa"
   ]
  },
  {
   "cell_type": "code",
   "execution_count": 14,
   "id": "403be6d6-4be5-4c4b-bc4e-8fec53266475",
   "metadata": {},
   "outputs": [
    {
     "name": "stdout",
     "output_type": "stream",
     "text": [
      "[1, 1, 2]\n",
      "[1.0, 1.0, 2.0]\n"
     ]
    }
   ],
   "source": [
    "#Convert a python list of int to a java array of int\n",
    "#  This allows to specify custom initial partitions\n",
    "array_java=erodeHandler.py_to_j_list([1,1,2])\n",
    "\n",
    "#Convert a java array of int to a python list of int\n",
    "#  This allows to use in python a partition computed by ERODE\n",
    "py_list_int=erodeHandler.j_to_py_list(array_java,int)\n",
    "print(py_list_int)\n",
    "\n",
    "py_list_float=erodeHandler.j_to_py_list(array_java,float)\n",
    "print(py_list_float)"
   ]
  },
  {
   "cell_type": "markdown",
   "id": "f51485f9",
   "metadata": {},
   "source": [
    "### Import and approximate Affine systems"
   ]
  },
  {
   "cell_type": "code",
   "execution_count": 15,
   "id": "7d8bfa15",
   "metadata": {},
   "outputs": [
    {
     "name": "stdout",
     "output_type": "stream",
     "text": [
      "The loaded model has 3 variables\n",
      "test2_pert.csv: 3 parameters, 3 reactions, 3 species.\n",
      "Parameters:\n",
      "[p0 1.0, p1 1.0, p2 0.1]\n",
      "Species:\n",
      "[S0, S1, S2]\n",
      " Reactions:\n",
      "[S1-- (p0) -->S0+S1, S2-- (p1) -->S0+S2, S0-- (p2) -->S0+S1]\n"
     ]
    }
   ],
   "source": [
    "erode.importAffine(\"test2_pert.csv\",\"test2B.csv\",True)\n",
    "nVars=erode.getVariablesNum()\n",
    "print('The loaded model has',nVars,'variables')\n",
    "print(erode.getModelString())"
   ]
  },
  {
   "cell_type": "markdown",
   "id": "8c300967",
   "metadata": {},
   "source": [
    "#### No exact reduction with BE"
   ]
  },
  {
   "cell_type": "code",
   "execution_count": 16,
   "id": "9f00e3bb",
   "metadata": {},
   "outputs": [
    {
     "name": "stdout",
     "output_type": "stream",
     "text": [
      "ERODE will use the following pre_partition\n",
      "The partition has 2 blocks out of 3 species:\n",
      "Block 1, Size: 1\n",
      "0-S0 \n",
      "\n",
      "Block 2, Size: 2\n",
      "1-S1 \n",
      "2-S2 \n",
      "\n",
      "The initial partition has 2 blocks\n",
      "\n",
      "This is the obtained partition\n",
      "The partition has 3 blocks out of 3 species:\n",
      "Block 1, Size: 1\n",
      "0-S0 \n",
      "\n",
      "Block 2, Size: 1\n",
      "1-S1 \n",
      "\n",
      "Block 3, Size: 1\n",
      "2-S2 \n",
      "\n"
     ]
    }
   ],
   "source": [
    "pre_part=erodeHandler.py_to_j_list([1,2,2])\n",
    "\n",
    "print(\"ERODE will use the following pre_partition\")\n",
    "print(erode.getPartitionString(pre_part))\n",
    "\n",
    "n_blocks=erode.getNumberOfBlocks(pre_part)\n",
    "print(\"The initial partition has\",n_blocks,\"blocks\\n\")\n",
    "\n",
    "obtained_prep = erode.computeBE(pre_part);\n",
    "#obtained_prep\n",
    "print(\"This is the obtained partition\")\n",
    "print(erode.getPartitionString(obtained_prep))"
   ]
  },
  {
   "cell_type": "markdown",
   "id": "9307cc59",
   "metadata": {},
   "source": [
    "#### We reduce with eps-BE"
   ]
  },
  {
   "cell_type": "code",
   "execution_count": 17,
   "id": "85be7d0f",
   "metadata": {},
   "outputs": [
    {
     "name": "stdout",
     "output_type": "stream",
     "text": [
      "ERODE will use the following pre_partition\n",
      "The partition has 2 blocks out of 3 species:\n",
      "Block 1, Size: 1\n",
      "0-S0 \n",
      "\n",
      "Block 2, Size: 2\n",
      "1-S1 \n",
      "2-S2 \n",
      "\n",
      "The initial partition has 2 blocks\n",
      "\n",
      "This is the obtained partition\n",
      "The partition has 2 blocks out of 3 species:\n",
      "Block 1, Size: 1\n",
      "0-S0 \n",
      "\n",
      "Block 2, Size: 2\n",
      "1-S1 \n",
      "2-S2 \n",
      "\n",
      "\n",
      "\n",
      "ERODE will use the default pre_partition\n",
      "This is the obtained partition\n",
      "The partition has 2 blocks out of 3 species:\n",
      "Block 1, Size: 1\n",
      "0-S0 \n",
      "\n",
      "Block 2, Size: 2\n",
      "1-S1 \n",
      "2-S2 \n",
      "\n"
     ]
    }
   ],
   "source": [
    "pre_part=erodeHandler.py_to_j_list([1,2,2])\n",
    "print(\"ERODE will use the following pre_partition\")\n",
    "print(erode.getPartitionString(pre_part))\n",
    "\n",
    "n_blocks=erode.getNumberOfBlocks(pre_part)\n",
    "print(\"The initial partition has\",n_blocks,\"blocks\\n\")\n",
    "\n",
    "obtained_prep = erode.approxBE(0.1,pre_part,\"p0;p1;p2\");\n",
    "#obtained_prep\n",
    "print(\"This is the obtained partition\")\n",
    "print(erode.getPartitionString(obtained_prep))\n",
    "\n",
    "print()\n",
    "print()\n",
    "\n",
    "print(\"ERODE will use the default pre_partition\")\n",
    "obtained_prep = erode.approxBE(0.1,\"p0;p1;p2\")\n",
    "#obtained_prep\n",
    "print(\"This is the obtained partition\")\n",
    "print(erode.getPartitionString(obtained_prep))"
   ]
  },
  {
   "cell_type": "markdown",
   "id": "5f62c373",
   "metadata": {},
   "source": [
    "##### What is the minimal change we can apply to the parameters to make the approx BE a BE? We consider the parameters given when running approxBE\n"
   ]
  },
  {
   "cell_type": "code",
   "execution_count": 18,
   "id": "e448da5f",
   "metadata": {},
   "outputs": [
    {
     "name": "stdout",
     "output_type": "stream",
     "text": [
      "A\n",
      "[[0.0, 1.0, -1.0, 0.0, 0.0, 0.0], [0.0, 0.0, 0.0, 0.0, 0.0, 1.0]]\n",
      "B\n",
      "[0.0, 0.0]\n",
      "We now find the optimal solution\n",
      "     pcost       dcost       gap    pres   dres\n",
      " 0: -1.0000e+00 -1.0000e+00  2e+00  1e+00  0e+00\n",
      " 1: -1.0000e+00 -1.0000e+00  2e-02  1e-02  0e+00\n",
      " 2: -1.0000e+00 -1.0000e+00  2e-04  1e-04  0e+00\n",
      " 3: -1.0000e+00 -1.0000e+00  2e-06  1e-06  0e+00\n",
      " 4: -1.0000e+00 -1.0000e+00  2e-08  1e-08  0e+00\n",
      "Optimal solution found.\n",
      "S0 = 0.0\n",
      "S1 = 0.0\n",
      "S2 = 0.0\n",
      "p0 = 1.0\n",
      "p1 = 1.0\n",
      "p2 = 0.0\n"
     ]
    }
   ],
   "source": [
    "#p0Opt=erodeHandler.computeParamsToMakeApprox_BE_FE(True)\n",
    "p0Opt=erodeHandler.computeParamsToMakeApprox_BE()\n",
    "#p0Opt"
   ]
  },
  {
   "cell_type": "markdown",
   "id": "6aa03b6a-c1eb-4106-8042-c24d4e9fc57a",
   "metadata": {},
   "source": [
    "#### We reduce with FE"
   ]
  },
  {
   "cell_type": "code",
   "execution_count": 19,
   "id": "48ca692e-cdfc-4d55-a943-9e81c6141f08",
   "metadata": {},
   "outputs": [
    {
     "name": "stdout",
     "output_type": "stream",
     "text": [
      "ERODE will use the following pre_partition\n",
      "The partition has 2 blocks out of 3 species:\n",
      "Block 1, Size: 1\n",
      "0-S0 \n",
      "\n",
      "Block 2, Size: 2\n",
      "1-S1 \n",
      "2-S2 \n",
      "\n",
      "The initial partition has 2 blocks\n",
      "\n",
      "This is the obtained partition\n",
      "The partition has 2 blocks out of 3 species:\n",
      "Block 1, Size: 1\n",
      "0-S0 \n",
      "\n",
      "Block 2, Size: 2\n",
      "1-S1 \n",
      "2-S2 \n",
      "\n"
     ]
    }
   ],
   "source": [
    "pre_part=erodeHandler.py_to_j_list([1,2,2])\n",
    "\n",
    "print(\"ERODE will use the following pre_partition\")\n",
    "print(erode.getPartitionString(pre_part))\n",
    "\n",
    "n_blocks=erode.getNumberOfBlocks(pre_part)\n",
    "print(\"The initial partition has\",n_blocks,\"blocks\\n\")\n",
    "\n",
    "obtained_prep = erode.computeFE(pre_part);\n",
    "#obtained_prep\n",
    "print(\"This is the obtained partition\")\n",
    "print(erode.getPartitionString(obtained_prep))"
   ]
  },
  {
   "cell_type": "markdown",
   "id": "0f1fb4b0",
   "metadata": {},
   "source": [
    "### Import and approximate general ODEs"
   ]
  },
  {
   "cell_type": "code",
   "execution_count": 20,
   "id": "f477e8a0",
   "metadata": {},
   "outputs": [
    {
     "name": "stdout",
     "output_type": "stream",
     "text": [
      "test2_pert2.ode: 2 parameters, 2 reactions, 2 species.\n",
      "Parameters:\n",
      "[p1 1.0, p2 1.1]\n",
      "Species:\n",
      "[S1, S2]\n",
      " Reactions:\n",
      "[S1-- (p1) -->2*S1, S2-- (p2) -->2*S2]\n"
     ]
    }
   ],
   "source": [
    "erode.loadModel(\"test2_pert2.ode\")\n",
    "print(erode.getModelString())"
   ]
  },
  {
   "cell_type": "markdown",
   "id": "89eb0394",
   "metadata": {},
   "source": [
    "#### No reduction with BE"
   ]
  },
  {
   "cell_type": "code",
   "execution_count": 21,
   "id": "6640b304",
   "metadata": {},
   "outputs": [
    {
     "name": "stdout",
     "output_type": "stream",
     "text": [
      "This is the obtained partition\n",
      "The partition has 2 blocks out of 2 species:\n",
      "Block 1, Size: 1\n",
      "0-S1 \n",
      "\n",
      "Block 2, Size: 1\n",
      "1-S2 \n",
      "\n"
     ]
    }
   ],
   "source": [
    "obtained_prep=erode.computeBE()\n",
    "print(\"This is the obtained partition\")\n",
    "print(erode.getPartitionString(obtained_prep))"
   ]
  },
  {
   "cell_type": "markdown",
   "id": "8eec28ab",
   "metadata": {},
   "source": [
    "#### We reduce with eps-BE"
   ]
  },
  {
   "cell_type": "code",
   "execution_count": 22,
   "id": "5d295ab0",
   "metadata": {},
   "outputs": [
    {
     "name": "stdout",
     "output_type": "stream",
     "text": [
      "We want to perturb p1 and p2 (all parameters in the model)\n",
      "This is the obtained partition\n",
      "The partition has 1 block out of 2 species:\n",
      "Block 1, Size: 2\n",
      "0-S1 \n",
      "1-S2 \n",
      "\n",
      "A\n",
      "[[1.0, -1.0, 0.0, 0.0], [0.0, 0.0, 1.0, -1.0]]\n",
      "B\n",
      "[0.0, 0.0]\n",
      "We now find the optimal solution\n",
      "     pcost       dcost       gap    pres   dres\n",
      " 0: -1.1025e+00 -1.1025e+00  2e+00  1e+00  7e-18\n",
      " 1: -1.1025e+00 -1.1025e+00  2e-02  1e-02  0e+00\n",
      " 2: -1.1025e+00 -1.1025e+00  2e-04  1e-04  0e+00\n",
      " 3: -1.1025e+00 -1.1025e+00  2e-06  1e-06  0e+00\n",
      " 4: -1.1025e+00 -1.1025e+00  2e-08  1e-08  0e+00\n",
      "Optimal solution found.\n",
      "S1 = 0.0\n",
      "S2 = 0.0\n",
      "p1 = 1.05\n",
      "p2 = 1.05\n"
     ]
    }
   ],
   "source": [
    "print('We want to perturb p1 and p2 (all parameters in the model)')\n",
    "obtained_prep = erode.approxBE(0.1,\"p1;p2\");\n",
    "print(\"This is the obtained partition\")\n",
    "print(erode.getPartitionString(obtained_prep))\n",
    "\n",
    "p0Opt=erodeHandler.computeParamsToMakeApprox_BE_FE(True)"
   ]
  },
  {
   "cell_type": "code",
   "execution_count": 23,
   "id": "2c3392cb",
   "metadata": {},
   "outputs": [
    {
     "name": "stdout",
     "output_type": "stream",
     "text": [
      "We want to perturb ALL parameters in the model (p1 and p2)\n",
      "This is the obtained partition\n",
      "The partition has 1 block out of 2 species:\n",
      "Block 1, Size: 2\n",
      "0-S1 \n",
      "1-S2 \n",
      "\n",
      "A\n",
      "[[1.0, -1.0, 0.0, 0.0], [0.0, 0.0, 1.0, -1.0]]\n",
      "B\n",
      "[0.0, 0.0]\n",
      "We now find the optimal solution\n",
      "     pcost       dcost       gap    pres   dres\n",
      " 0: -1.1025e+00 -1.1025e+00  2e+00  1e+00  7e-18\n",
      " 1: -1.1025e+00 -1.1025e+00  2e-02  1e-02  0e+00\n",
      " 2: -1.1025e+00 -1.1025e+00  2e-04  1e-04  0e+00\n",
      " 3: -1.1025e+00 -1.1025e+00  2e-06  1e-06  0e+00\n",
      " 4: -1.1025e+00 -1.1025e+00  2e-08  1e-08  0e+00\n",
      "Optimal solution found.\n",
      "S1 = 0.0\n",
      "S2 = 0.0\n",
      "p1 = 1.05\n",
      "p2 = 1.05\n"
     ]
    }
   ],
   "source": [
    "print('We want to perturb ALL parameters in the model (p1 and p2)')\n",
    "obtained_prep = erode.approxBE(0.1,\"ALL\");\n",
    "print(\"This is the obtained partition\")\n",
    "print(erode.getPartitionString(obtained_prep))\n",
    "\n",
    "p0Opt=erodeHandler.computeParamsToMakeApprox_BE_FE(True)"
   ]
  },
  {
   "cell_type": "markdown",
   "id": "9331a987-0ad5-4da6-94ba-6595f2f78e62",
   "metadata": {},
   "source": [
    "#### No reduction with FE"
   ]
  },
  {
   "cell_type": "code",
   "execution_count": 24,
   "id": "f28ee817-909d-480c-8efb-e7c7f7aa2b94",
   "metadata": {},
   "outputs": [
    {
     "name": "stdout",
     "output_type": "stream",
     "text": [
      "This is the obtained partition\n",
      "The partition has 2 blocks out of 2 species:\n",
      "Block 1, Size: 1\n",
      "0-S1 \n",
      "\n",
      "Block 2, Size: 1\n",
      "1-S2 \n",
      "\n"
     ]
    }
   ],
   "source": [
    "obtained_prep=erode.computeFE()\n",
    "print(\"This is the obtained partition\")\n",
    "print(erode.getPartitionString(obtained_prep))"
   ]
  },
  {
   "cell_type": "markdown",
   "id": "7b6a56e3-00fc-4fd4-9041-e2f5fd18ea27",
   "metadata": {},
   "source": [
    "#### We reduce with eps-FE"
   ]
  },
  {
   "cell_type": "code",
   "execution_count": 25,
   "id": "f2160ee2-b804-4008-b059-247393e3181b",
   "metadata": {},
   "outputs": [
    {
     "name": "stdout",
     "output_type": "stream",
     "text": [
      "We want to perturb p1 and p2 (all parameters in the model)\n",
      "This is the obtained partition\n",
      "The partition has 1 block out of 2 species:\n",
      "Block 1, Size: 2\n",
      "0-S1 \n",
      "1-S2 \n",
      "\n",
      "A\n",
      "[[0.0, 0.0], [-1.0, 1.0]]\n",
      "B\n",
      "[0.0, 0.0]\n",
      "We now find the optimal solution\n",
      "The optimization problem could not be solved. Likely the matrix A is not full rank.\n",
      " Error message:  Rank(A) < p or Rank([P; A; G]) < n\n"
     ]
    }
   ],
   "source": [
    "print('We want to perturb p1 and p2 (all parameters in the model)')\n",
    "obtained_prep = erode.approxFE(0.5,\"p1;p2\");\n",
    "print(\"This is the obtained partition\")\n",
    "print(erode.getPartitionString(obtained_prep))\n",
    "\n",
    "p0Opt=erodeHandler.computeParamsToMakeApprox_FE()"
   ]
  },
  {
   "cell_type": "code",
   "execution_count": 26,
   "id": "4dcafab5-446b-4e44-8985-926493ff8b9a",
   "metadata": {},
   "outputs": [
    {
     "name": "stdout",
     "output_type": "stream",
     "text": [
      "We want to perturb ALL parameters in the model (p1 and p2)\n",
      "This is the obtained partition\n",
      "The partition has 1 block out of 2 species:\n",
      "Block 1, Size: 2\n",
      "0-S1 \n",
      "1-S2 \n",
      "\n",
      "A\n",
      "[[0.0, 0.0], [-1.0, 1.0]]\n",
      "B\n",
      "[0.0, 0.0]\n",
      "We now find the optimal solution\n",
      "The optimization problem could not be solved. Likely the matrix A is not full rank.\n",
      " Error message:  Rank(A) < p or Rank([P; A; G]) < n\n"
     ]
    }
   ],
   "source": [
    "print('We want to perturb ALL parameters in the model (p1 and p2)')\n",
    "obtained_prep = erode.approxFE(0.5,\"ALL\");\n",
    "print(\"This is the obtained partition\")\n",
    "print(erode.getPartitionString(obtained_prep))\n",
    "\n",
    "erodeHandler.computeParamsToMakeApprox_FE()"
   ]
  },
  {
   "cell_type": "markdown",
   "id": "01162125-3aaf-4a21-a047-66622de350a2",
   "metadata": {},
   "source": [
    "### Debugging"
   ]
  },
  {
   "cell_type": "code",
   "execution_count": 27,
   "id": "00c884db-558c-4dc2-bddc-e760da427537",
   "metadata": {},
   "outputs": [
    {
     "name": "stdout",
     "output_type": "stream",
     "text": [
      "We have loaded model guisepfde2\n",
      "guisepfde2: 7 parameters, 7 reactions, 3 species.\n",
      "Parameters:\n",
      "[a -4.0, b 1.0, c 1.0, f 1.99, l -1.0, g 2.01, h -1.0]\n",
      "Species:\n",
      "[x1, x2, x3]\n",
      " Reactions:\n",
      "[x1-- (f) -->x1+x2, x1-- (g) -->x1+x3, x1-- (a) -->2*x1, x2-- (b) -->x1+x2, x2-- (l) -->2*x2, x3-- (c) -->x1+x3, x3-- (h) -->2*x3]\n",
      "\n",
      "intiial partition\n",
      "We are going to use this initial partition\n",
      "The partition has 2 blocks out of 3 species:\n",
      "Block 1, Size: 1\n",
      "0-x1 \n",
      "\n",
      "Block 2, Size: 2\n",
      "1-x2 \n",
      "2-x3 \n",
      "\n",
      "\n",
      "BE\n",
      "This is the obtained partition\n",
      "The partition has 3 blocks out of 3 species:\n",
      "Block 1, Size: 1\n",
      "0-x1 \n",
      "\n",
      "Block 2, Size: 1\n",
      "1-x2 \n",
      "\n",
      "Block 3, Size: 1\n",
      "2-x3 \n",
      "\n",
      "\n",
      "approx\n",
      "We want to perturb ALL parameters in the model\n",
      "This is the obtained partition\n",
      "The partition has 2 blocks out of 3 species:\n",
      "Block 1, Size: 1\n",
      "0-x1 \n",
      "\n",
      "Block 2, Size: 2\n",
      "1-x2 \n",
      "2-x3 \n",
      "\n",
      "A\n",
      "[[0.0, 1.0, -1.0, 0.0, 0.0, 0.0, 0.0, 0.0, 0.0, 0.0], [0.0, 0.0, 0.0, 0.0, 0.0, 0.0, 1.0, 0.0, -1.0, 0.0], [0.0, 0.0, 0.0, 0.0, 0.0, 0.0, 0.0, 1.0, 0.0, -1.0]]\n",
      "B\n",
      "[0.0, 0.0, 0.0]\n",
      "We now find the optimal solution\n",
      "     pcost       dcost       gap    pres   dres\n",
      " 0: -1.4000e+01 -1.4000e+01  3e+00  2e+00  3e-17\n",
      " 1: -1.4000e+01 -1.4000e+01  3e-02  2e-02  3e-17\n",
      " 2: -1.4000e+01 -1.4000e+01  3e-04  2e-04  3e-17\n",
      " 3: -1.4000e+01 -1.4000e+01  3e-06  2e-06  3e-17\n",
      " 4: -1.4000e+01 -1.4000e+01  3e-08  2e-08  3e-17\n",
      "Optimal solution found.\n",
      "x1 = 0.0\n",
      "x2 = 0.0\n",
      "x3 = 0.0\n",
      "a = -4.0\n",
      "b = 1.0\n",
      "c = 1.0\n",
      "f = 1.9999999999999998\n",
      "l = -1.0\n",
      "g = 2.0\n",
      "h = -1.0\n"
     ]
    }
   ],
   "source": [
    "erode.loadModel(\"ravi/guisepfde2.ode\")\n",
    "print('We have loaded model',erode.getModelName())\n",
    "print(erode.getModelString())\n",
    "\n",
    "print(\"\\nintiial partition\")\n",
    "pre_part=erodeHandler.py_to_j_list([1,2,2])\n",
    "print(\"We are going to use this initial partition\")\n",
    "print(erode.getPartitionString(pre_part))\n",
    "\n",
    "print(\"\\nBE\")\n",
    "obtained_prep=erode.computeBE(pre_part)\n",
    "print(\"This is the obtained partition\")\n",
    "print(erode.getPartitionString(obtained_prep))\n",
    "\n",
    "\n",
    "print('\\napprox')\n",
    "print('We want to perturb ALL parameters in the model')\n",
    "obtained_prep = erode.approxBE(0.02,pre_part,\"ALL\");\n",
    "print(\"This is the obtained partition\")\n",
    "print(erode.getPartitionString(obtained_prep))\n",
    "\n",
    "erodeHandler.computeParamsToMakeApprox_BE()"
   ]
  },
  {
   "cell_type": "code",
   "execution_count": 28,
   "id": "11acd24b-144c-48cb-b288-ebebf54c8a06",
   "metadata": {},
   "outputs": [
    {
     "name": "stdout",
     "output_type": "stream",
     "text": [
      "We have loaded model guisepfde2\n",
      "guisepfde2: 7 parameters, 7 reactions, 3 species.\n",
      "Parameters:\n",
      "[a -4.0, b 1.0, c 1.0, f 1.99, l -1.0, g 2.01, h -1.0]\n",
      "Species:\n",
      "[x1, x2, x3]\n",
      " Reactions:\n",
      "[x1-- (f) -->x1+x2, x1-- (g) -->x1+x3, x1-- (a) -->2*x1, x2-- (b) -->x1+x2, x2-- (l) -->2*x2, x3-- (c) -->x1+x3, x3-- (h) -->2*x3]\n",
      "\n",
      "intiial partition\n",
      "We are going to use this initial partition\n",
      "The partition has 2 blocks out of 3 species:\n",
      "Block 1, Size: 1\n",
      "0-x1 \n",
      "\n",
      "Block 2, Size: 2\n",
      "1-x2 \n",
      "2-x3 \n",
      "\n",
      "\n",
      "BE\n",
      "This is the obtained partition\n",
      "The partition has 2 blocks out of 3 species:\n",
      "Block 1, Size: 1\n",
      "0-x1 \n",
      "\n",
      "Block 2, Size: 2\n",
      "1-x2 \n",
      "2-x3 \n",
      "\n",
      "\n",
      "approx\n",
      "We want to perturb ALL parameters in the model\n",
      "This is the obtained partition\n",
      "The partition has 2 blocks out of 3 species:\n",
      "Block 1, Size: 1\n",
      "0-x1 \n",
      "\n",
      "Block 2, Size: 2\n",
      "1-x2 \n",
      "2-x3 \n",
      "\n",
      "A\n",
      "[[0.0, 0.0, 0.0, 0.0, 0.0, 0.0, 0.0], [0.0, 0.0, 0.0, 0.0, 0.0, 0.0, 0.0], [0.0, -1.0, 1.0, 0.0, 0.0, 0.0, 0.0], [0.0, 0.0, 0.0, 0.0, 0.0, 0.0, 0.0], [0.0, 0.0, 0.0, 0.0, 0.0, 0.0, 0.0], [0.0, 0.0, 0.0, 0.0, -1.0, 0.0, 1.0]]\n",
      "B\n",
      "[0.0, 0.0, 0.0, 0.0, 0.0, 0.0]\n",
      "We now find the optimal solution\n",
      "The optimization problem could not be solved. Likely the matrix A is not full rank.\n",
      " Error message:  Rank(A) < p or Rank([P; A; G]) < n\n"
     ]
    }
   ],
   "source": [
    "erode.loadModel(\"ravi/guisepfde2.ode\")\n",
    "print('We have loaded model',erode.getModelName())\n",
    "print(erode.getModelString())\n",
    "\n",
    "print(\"\\nintiial partition\")\n",
    "pre_part=erodeHandler.py_to_j_list([1,2,2])\n",
    "print(\"We are going to use this initial partition\")\n",
    "print(erode.getPartitionString(pre_part))\n",
    "\n",
    "print(\"\\nBE\")\n",
    "obtained_prep=erode.computeFE(pre_part)\n",
    "print(\"This is the obtained partition\")\n",
    "print(erode.getPartitionString(obtained_prep))\n",
    "\n",
    "\n",
    "print('\\napprox')\n",
    "print('We want to perturb ALL parameters in the model')\n",
    "obtained_prep = erode.approxFE(0.02,pre_part,\"ALL\");\n",
    "print(\"This is the obtained partition\")\n",
    "print(erode.getPartitionString(obtained_prep))\n",
    "\n",
    "erodeHandler.computeParamsToMakeApprox_FE()"
   ]
  },
  {
   "cell_type": "code",
   "execution_count": 29,
   "id": "8c686f3a-3e4e-401d-ba03-84c295079bc3",
   "metadata": {},
   "outputs": [
    {
     "name": "stdout",
     "output_type": "stream",
     "text": [
      "We have loaded model checking\n",
      "checking: 1 parameters, 2 reactions, 3 species.\n",
      "Parameters:\n",
      "[r 1.1]\n",
      "Species:\n",
      "[S0, S1, S2]\n",
      " Reactions:\n",
      "[S0-- (r) -->S0+S1, S0-- (1) -->S0+S2]\n",
      "\n",
      "intiial partition\n",
      "We are going to use this initial partition\n",
      "The partition has 2 blocks out of 3 species:\n",
      "Block 1, Size: 1\n",
      "0-S0 \n",
      "\n",
      "Block 2, Size: 2\n",
      "1-S1 \n",
      "2-S2 \n",
      "\n",
      "\n",
      "BE\n",
      "This is the obtained partition\n",
      "The partition has 3 blocks out of 3 species:\n",
      "Block 1, Size: 1\n",
      "0-S0 \n",
      "\n",
      "Block 2, Size: 1\n",
      "1-S1 \n",
      "\n",
      "Block 3, Size: 1\n",
      "2-S2 \n",
      "\n",
      "\n",
      "approx\n",
      "We want to perturb ALL parameters in the model\n",
      "This is the obtained partition\n",
      "The partition has 2 blocks out of 3 species:\n",
      "Block 1, Size: 1\n",
      "0-S0 \n",
      "\n",
      "Block 2, Size: 2\n",
      "1-S1 \n",
      "2-S2 \n",
      "\n",
      "A\n",
      "[[0.0, 1.0, -1.0, 0.0], [0.0, 0.0, 0.0, 1.0]]\n",
      "B\n",
      "[0.0, 1.0]\n",
      "We now find the optimal solution\n",
      "     pcost       dcost       gap    pres   dres\n",
      " 0: -6.0000e-01 -6.0000e-01  2e+00  1e+00  0e+00\n",
      " 1: -6.0000e-01 -6.0000e-01  2e-02  1e-02  0e+00\n",
      " 2: -6.0000e-01 -6.0000e-01  2e-04  1e-04  0e+00\n",
      " 3: -6.0000e-01 -6.0000e-01  2e-06  1e-06  0e+00\n",
      " 4: -6.0000e-01 -6.0000e-01  2e-08  1e-08  0e+00\n",
      "Optimal solution found.\n",
      "S0 = 0.0\n",
      "S1 = 0.0\n",
      "S2 = 0.0\n",
      "r = 1.0\n"
     ]
    }
   ],
   "source": [
    "erode.loadModel(\"ravi/checking.ode\")\n",
    "print('We have loaded model',erode.getModelName())\n",
    "print(erode.getModelString())\n",
    "\n",
    "print(\"\\nintiial partition\")\n",
    "pre_part=erodeHandler.py_to_j_list([1,2,2])\n",
    "print(\"We are going to use this initial partition\")\n",
    "print(erode.getPartitionString(pre_part))\n",
    "\n",
    "print(\"\\nBE\")\n",
    "obtained_prep=erode.computeBE(pre_part)\n",
    "print(\"This is the obtained partition\")\n",
    "print(erode.getPartitionString(obtained_prep))\n",
    "\n",
    "\n",
    "print('\\napprox')\n",
    "print('We want to perturb ALL parameters in the model')\n",
    "obtained_prep = erode.approxBE(0.1,pre_part,\"ALL\");\n",
    "print(\"This is the obtained partition\")\n",
    "print(erode.getPartitionString(obtained_prep))\n",
    "\n",
    "erodeHandler.computeParamsToMakeApprox_BE()"
   ]
  },
  {
   "cell_type": "markdown",
   "id": "3f52a77b-de10-4e0e-80f1-36ad33a25716",
   "metadata": {
    "tags": []
   },
   "source": [
    "### Simulate ODEs"
   ]
  },
  {
   "cell_type": "code",
   "execution_count": 30,
   "id": "6916740f-6680-4862-a6c3-c31873bef8b1",
   "metadata": {},
   "outputs": [
    {
     "name": "stdout",
     "output_type": "stream",
     "text": [
      "We have loaded model kaic.ode\n",
      "kaic.ode: 6 parameters, 8 reactions, 4 species.\n",
      "Parameters:\n",
      "[k1 0.5, k2 1, p1 1.0, p2 1.0, p3 1.0, p4 1.0]\n",
      "Species:\n",
      "[OO, PP, OP, PO]\n",
      " Reactions:\n",
      "[OO+PP-- (k1) -->PP+OP, PP+OP-- (k2) -->2*PP, OO+PP-- (k1) -->OO+OP, OO+OP-- (k2) -->2*OO, OO+PP-- (k1) -->PP+PO, PP+PO-- (k2) -->2*PP, OO+PP-- (k1) -->OO+PO, OO+PO-- (k2) -->2*OO]\n",
      "\n"
     ]
    },
    {
     "data": {
      "text/html": [
       "<div>\n",
       "<style scoped>\n",
       "    .dataframe tbody tr th:only-of-type {\n",
       "        vertical-align: middle;\n",
       "    }\n",
       "\n",
       "    .dataframe tbody tr th {\n",
       "        vertical-align: top;\n",
       "    }\n",
       "\n",
       "    .dataframe thead th {\n",
       "        text-align: right;\n",
       "    }\n",
       "</style>\n",
       "<table border=\"1\" class=\"dataframe\">\n",
       "  <thead>\n",
       "    <tr style=\"text-align: right;\">\n",
       "      <th></th>\n",
       "      <th>OO</th>\n",
       "      <th>PP</th>\n",
       "      <th>OP</th>\n",
       "      <th>PO</th>\n",
       "    </tr>\n",
       "    <tr>\n",
       "      <th># time</th>\n",
       "      <th></th>\n",
       "      <th></th>\n",
       "      <th></th>\n",
       "      <th></th>\n",
       "    </tr>\n",
       "  </thead>\n",
       "  <tbody>\n",
       "    <tr>\n",
       "      <th>0.000000</th>\n",
       "      <td>2.000000</td>\n",
       "      <td>2.000000</td>\n",
       "      <td>0.000000</td>\n",
       "      <td>0.000000</td>\n",
       "    </tr>\n",
       "    <tr>\n",
       "      <th>0.010101</th>\n",
       "      <td>1.961170</td>\n",
       "      <td>1.961170</td>\n",
       "      <td>0.038830</td>\n",
       "      <td>0.038830</td>\n",
       "    </tr>\n",
       "    <tr>\n",
       "      <th>0.020202</th>\n",
       "      <td>1.925271</td>\n",
       "      <td>1.925271</td>\n",
       "      <td>0.074729</td>\n",
       "      <td>0.074729</td>\n",
       "    </tr>\n",
       "    <tr>\n",
       "      <th>0.030303</th>\n",
       "      <td>1.892010</td>\n",
       "      <td>1.892010</td>\n",
       "      <td>0.107990</td>\n",
       "      <td>0.107990</td>\n",
       "    </tr>\n",
       "    <tr>\n",
       "      <th>0.040404</th>\n",
       "      <td>1.861130</td>\n",
       "      <td>1.861130</td>\n",
       "      <td>0.138870</td>\n",
       "      <td>0.138870</td>\n",
       "    </tr>\n",
       "    <tr>\n",
       "      <th>...</th>\n",
       "      <td>...</td>\n",
       "      <td>...</td>\n",
       "      <td>...</td>\n",
       "      <td>...</td>\n",
       "    </tr>\n",
       "    <tr>\n",
       "      <th>0.959596</th>\n",
       "      <td>1.342971</td>\n",
       "      <td>1.342971</td>\n",
       "      <td>0.657029</td>\n",
       "      <td>0.657029</td>\n",
       "    </tr>\n",
       "    <tr>\n",
       "      <th>0.969697</th>\n",
       "      <td>1.342586</td>\n",
       "      <td>1.342586</td>\n",
       "      <td>0.657414</td>\n",
       "      <td>0.657414</td>\n",
       "    </tr>\n",
       "    <tr>\n",
       "      <th>0.979798</th>\n",
       "      <td>1.342218</td>\n",
       "      <td>1.342218</td>\n",
       "      <td>0.657782</td>\n",
       "      <td>0.657782</td>\n",
       "    </tr>\n",
       "    <tr>\n",
       "      <th>0.989899</th>\n",
       "      <td>1.341863</td>\n",
       "      <td>1.341863</td>\n",
       "      <td>0.658137</td>\n",
       "      <td>0.658137</td>\n",
       "    </tr>\n",
       "    <tr>\n",
       "      <th>1.000000</th>\n",
       "      <td>1.341524</td>\n",
       "      <td>1.341524</td>\n",
       "      <td>0.658476</td>\n",
       "      <td>0.658476</td>\n",
       "    </tr>\n",
       "  </tbody>\n",
       "</table>\n",
       "<p>100 rows × 4 columns</p>\n",
       "</div>"
      ],
      "text/plain": [
       "                OO        PP        OP        PO\n",
       "# time                                          \n",
       "0.000000  2.000000  2.000000  0.000000  0.000000\n",
       "0.010101  1.961170  1.961170  0.038830  0.038830\n",
       "0.020202  1.925271  1.925271  0.074729  0.074729\n",
       "0.030303  1.892010  1.892010  0.107990  0.107990\n",
       "0.040404  1.861130  1.861130  0.138870  0.138870\n",
       "...            ...       ...       ...       ...\n",
       "0.959596  1.342971  1.342971  0.657029  0.657029\n",
       "0.969697  1.342586  1.342586  0.657414  0.657414\n",
       "0.979798  1.342218  1.342218  0.657782  0.657782\n",
       "0.989899  1.341863  1.341863  0.658137  0.658137\n",
       "1.000000  1.341524  1.341524  0.658476  0.658476\n",
       "\n",
       "[100 rows x 4 columns]"
      ]
     },
     "execution_count": 30,
     "metadata": {},
     "output_type": "execute_result"
    }
   ],
   "source": [
    "#Load the KAIC model https://www.ncbi.nlm.nih.gov/pmc/articles/PMC6244770/\n",
    "# we use a variant with all parameters set to one\n",
    "erode.loadModel(\"kaic.ode\")\n",
    "print('We have loaded model',erode.getModelName())\n",
    "print(erode.getModelString())\n",
    "\n",
    "print()\n",
    "#simulate with time horizon 1, and provide 100 steps in the csv file\n",
    "erode.simulateODE(1.0,100,\"kaic\")\n",
    "df_csv=pd.read_csv(\"kaic.cdat\")\n",
    "\n",
    "#clean csv\n",
    "df_csv=df_csv.iloc[:, :-1]\n",
    "df_csv.set_index(\"# time\",drop=True,inplace=True)\n",
    "\n",
    "df_csv"
   ]
  },
  {
   "cell_type": "code",
   "execution_count": 31,
   "id": "15b03532-fa52-4cdc-8f31-67036b96e51b",
   "metadata": {},
   "outputs": [
    {
     "data": {
      "text/plain": [
       "<AxesSubplot:xlabel='# time'>"
      ]
     },
     "execution_count": 31,
     "metadata": {},
     "output_type": "execute_result"
    },
    {
     "data": {
      "image/png": "[encoded data removed]",
      "text/plain": [
       "<Figure size 432x288 with 1 Axes>"
      ]
     },
     "metadata": {
      "needs_background": "light"
     },
     "output_type": "display_data"
    }
   ],
   "source": [
    "df_csv.plot()"
   ]
  },
  {
   "cell_type": "markdown",
   "id": "9ba1f124-4c4b-404d-9403-91880054fcee",
   "metadata": {},
   "source": [
    "## Network embedding"
   ]
  },
  {
   "cell_type": "markdown",
   "id": "0f566ce5-d87c-434d-a5ad-2f3c82bd18b8",
   "metadata": {},
   "source": [
    "### Running example"
   ]
  },
  {
   "cell_type": "code",
   "execution_count": 112,
   "id": "5847dbcf-7200-48c4-a1e9-5b69b5282e61",
   "metadata": {},
   "outputs": [
    {
     "data": {
      "image/png": "[encoded data removed]",
      "text/plain": [
       "<Figure size 432x201.6 with 1 Axes>"
      ]
     },
     "metadata": {},
     "output_type": "display_data"
    },
    {
     "name": "stdout",
     "output_type": "stream",
     "text": [
      "ADJACENCY MATRIX\n",
      "[[0 1 1 1 0 0 0 0 0 0 0]\n",
      " [1 0 0 0 1 1 1 0 0 0 0]\n",
      " [1 0 0 0 0 0 0 1 1 0 0]\n",
      " [1 0 0 0 0 0 0 0 0 1 1]\n",
      " [0 1 0 0 0 0 0 0 0 0 0]\n",
      " [0 1 0 0 0 0 0 0 0 0 0]\n",
      " [0 1 0 0 0 0 0 0 0 0 0]\n",
      " [0 0 1 0 0 0 0 0 0 0 0]\n",
      " [0 0 1 0 0 0 0 0 0 0 0]\n",
      " [0 0 0 1 0 0 0 0 0 0 0]\n",
      " [0 0 0 1 0 0 0 0 0 0 0]]\n"
     ]
    }
   ],
   "source": [
    "#path to the .edgelist file\n",
    "networkPath = \"example.edgelist\"\n",
    "#number of node in the network\n",
    "N = 11\n",
    "\n",
    "#NetworkX set up for visualization\n",
    "G = nx.read_edgelist(networkPath)\n",
    "pos = {'0': (1, 0), '1': (-1, -0.5), '2': (1, -0.5), '3': (3, -0.5), '4': (-1.5, -1), '5': (-1, -1), '6': (-0.5, -1), '7': (0.5, -1), '8': (1.5, -1), '9': (2.5, -1), '10': (3.5, -1) }\n",
    "node = [1000,1000,1000,1000,1000,1000,1000,1000,1000,1000,1000]\n",
    "plt.figure(figsize=(6,2.8))\n",
    "nx.draw(G,pos, node_color='w', font_color = 'k', edgecolors = \"k\", node_size=node, with_labels=True )\n",
    "\n",
    "#extract adjacency matrix\n",
    "matrix = np.array(nx.adjacency_matrix(G).todense())\n",
    "plt.show()\n",
    "print(\"ADJACENCY MATRIX\")\n",
    "print(matrix)"
   ]
  },
  {
   "cell_type": "markdown",
   "id": "e54fac24-c1f2-4303-a6c4-cf0c718360eb",
   "metadata": {},
   "source": [
    "### eps-BE partition with eps=0.0"
   ]
  },
  {
   "cell_type": "code",
   "execution_count": 113,
   "id": "a46098c9-41ce-4293-85bb-59db5ff39ad4",
   "metadata": {},
   "outputs": [
    {
     "name": "stdout",
     "output_type": "stream",
     "text": [
      "OBTAINED PARTITION\n",
      "[2, 3, 4, 4, 5, 5, 5, 1, 1, 1, 1]\n"
     ]
    },
    {
     "data": {
      "image/png": "[encoded data removed]",
      "text/plain": [
       "<Figure size 432x201.6 with 1 Axes>"
      ]
     },
     "metadata": {},
     "output_type": "display_data"
    }
   ],
   "source": [
    "eps = 0.0\n",
    "\n",
    "# Computation of the eps-BE partition\n",
    "P = erode.reduceNetworkEpsBE(networkPath,N,eps)\n",
    "P_py=erodeHandler.j_to_py_list(P,int)\n",
    "print(\"OBTAINED PARTITION\")\n",
    "print(P_py)\n",
    "\n",
    "plt.figure(figsize=(6,2.8))\n",
    "colors = [\"brown\",\"c\",\"green\",\"orange\",\"red\"]\n",
    "\n",
    "#Plot of the network using the computed partition. Nodes with the same color belong to the same block.\n",
    "nx.draw(G,pos, node_color=[colors[i-1] for i in P_py], font_color = 'k', edgecolors = \"k\", node_size=node, with_labels=True )\n",
    "plt.show()\n"
   ]
  },
  {
   "cell_type": "markdown",
   "id": "cd946c2a-1af2-4301-88cc-4e6a5b54b564",
   "metadata": {},
   "source": [
    "### eps-BE partition with eps=1.0"
   ]
  },
  {
   "cell_type": "code",
   "execution_count": 114,
   "id": "7aba03e3-a251-417b-afc3-06671a0807f7",
   "metadata": {},
   "outputs": [
    {
     "name": "stdout",
     "output_type": "stream",
     "text": [
      "OBTAINED PARTITION\n",
      "[2, 3, 3, 3, 1, 1, 1, 1, 1, 1, 1]\n"
     ]
    },
    {
     "data": {
      "image/png": "[encoded data removed]",
      "text/plain": [
       "<Figure size 432x201.6 with 1 Axes>"
      ]
     },
     "metadata": {},
     "output_type": "display_data"
    }
   ],
   "source": [
    "eps = 1.0\n",
    "\n",
    "# Computation of the eps-BE partition\n",
    "P = erode.reduceNetworkEpsBE(networkPath,N,eps)\n",
    "P_py=erodeHandler.j_to_py_list(P,int)\n",
    "print(\"OBTAINED PARTITION\")\n",
    "print(P_py)\n",
    "\n",
    "plt.figure(figsize=(6,2.8))\n",
    "colors = [\"brown\",\"c\",\"orange\"]\n",
    "\n",
    "#Plot of the network using the computed partition. Nodes with the same color belong to the same block.\n",
    "nx.draw(G,pos, node_color=[colors[i-1] for i in P_py], font_color = 'k', edgecolors = \"k\", node_size=node, with_labels=True )\n",
    "plt.show()"
   ]
  },
  {
   "cell_type": "markdown",
   "id": "7d7f1d04-4502-4fff-b390-a1182a0dcfb1",
   "metadata": {},
   "source": [
    "### Network embedding with 1.0-BE partition"
   ]
  },
  {
   "cell_type": "code",
   "execution_count": 115,
   "id": "be8e7bc6-45ee-48d9-8759-496542555ff2",
   "metadata": {},
   "outputs": [
    {
     "name": "stdout",
     "output_type": "stream",
     "text": [
      "[[0 1 1 1 0 0 0 0 0 0 0]\n",
      " [1 0 0 0 1 1 1 0 0 0 0]\n",
      " [1 0 0 0 0 0 0 1 1 0 0]\n",
      " [1 0 0 0 0 0 0 0 0 1 1]\n",
      " [0 1 0 0 0 0 0 0 0 0 0]\n",
      " [0 1 0 0 0 0 0 0 0 0 0]\n",
      " [0 1 0 0 0 0 0 0 0 0 0]\n",
      " [0 0 1 0 0 0 0 0 0 0 0]\n",
      " [0 0 1 0 0 0 0 0 0 0 0]\n",
      " [0 0 0 1 0 0 0 0 0 0 0]\n",
      " [0 0 0 1 0 0 0 0 0 0 0]]\n",
      "[2, 3, 3, 3, 1, 1, 1, 1, 1, 1, 1]\n",
      "NETWORK EMBEDDING\n",
      "[[0. 3. 0.]\n",
      " [1. 0. 3.]\n",
      " [1. 0. 2.]\n",
      " [1. 0. 2.]\n",
      " [0. 1. 0.]\n",
      " [0. 1. 0.]\n",
      " [0. 1. 0.]\n",
      " [0. 1. 0.]\n",
      " [0. 1. 0.]\n",
      " [0. 1. 0.]\n",
      " [0. 1. 0.]]\n"
     ]
    }
   ],
   "source": [
    "#Network embedding computation\n",
    "matrix= np.array(nx.adjacency_matrix(G).todense())\n",
    "print(matrix)\n",
    "print(P_py)\n",
    "E = erodeHandler.computeEmbedding(matrix,P_py)\n",
    "print(\"NETWORK EMBEDDING\")\n",
    "print(E)"
   ]
  },
  {
   "cell_type": "markdown",
   "id": "e1ad5cf1-e9e8-4056-ba8c-080bd307e8d4",
   "metadata": {},
   "source": [
    "### Partition computation for benchmark networks"
   ]
  },
  {
   "cell_type": "markdown",
   "id": "d4d3e1e7-a580-4d32-85c3-c8e953052e38",
   "metadata": {},
   "source": [
    "#### Brazil Airport Network"
   ]
  },
  {
   "cell_type": "code",
   "execution_count": 116,
   "id": "c7c82ca3-be97-44a7-a286-bc37ee1e75de",
   "metadata": {},
   "outputs": [
    {
     "name": "stdout",
     "output_type": "stream",
     "text": [
      "EMBEDDING DIMENSION\n",
      "(131, 38)\n"
     ]
    }
   ],
   "source": [
    "G = nx.read_edgelist(\"BrazilAir.edgelist\")\n",
    "PBrazil = erode.reduceIterativeNetworkEpsBE(\"BrazilAir.edgelist\",131,0.0,3.0,1.0)\n",
    "PBrazil_py=erodeHandler.j_to_py_list(PBrazil,int)\n",
    "matrix= np.array(nx.adjacency_matrix(G).todense())\n",
    "E = erodeHandler.computeEmbedding(matrix,PBrazil_py)\n",
    "print(\"EMBEDDING DIMENSION\")\n",
    "print(E.shape)"
   ]
  },
  {
   "cell_type": "markdown",
   "id": "8ed5f0aa-2ff4-431c-b140-983be583c3c3",
   "metadata": {},
   "source": [
    "#### Europe Airport Nerwork"
   ]
  },
  {
   "cell_type": "code",
   "execution_count": 117,
   "id": "ec904b50-0a67-44b0-8d94-ce0a549410b9",
   "metadata": {},
   "outputs": [
    {
     "name": "stdout",
     "output_type": "stream",
     "text": [
      "EMBEDDING DIMENSION\n",
      "(399, 96)\n"
     ]
    }
   ],
   "source": [
    "G = nx.read_edgelist(\"EUAir.edgelist\")\n",
    "PEU = erode.reduceIterativeNetworkEpsBE(\"EUAir.edgelist\",399,0.0,4.0,1.0)\n",
    "PEU_py=erodeHandler.j_to_py_list(PEU,int)\n",
    "matrix= np.array(nx.adjacency_matrix(G).todense())\n",
    "E = erodeHandler.computeEmbedding(matrix,PEU_py)\n",
    "print(\"EMBEDDING DIMENSION\")\n",
    "print(E.shape)"
   ]
  },
  {
   "cell_type": "markdown",
   "id": "db789f37-3b80-42cd-862f-9295cc93d5dc",
   "metadata": {},
   "source": [
    "#### USA Airport Network"
   ]
  },
  {
   "cell_type": "code",
   "execution_count": 118,
   "id": "3f9b3177-84f2-49c0-a460-e7f9f9202112",
   "metadata": {},
   "outputs": [
    {
     "name": "stdout",
     "output_type": "stream",
     "text": [
      "EMBEDDING DIMENSION\n",
      "(1190, 325)\n"
     ]
    }
   ],
   "source": [
    "G = nx.read_edgelist(\"USAir.edgelist\")\n",
    "PUS = erode.reduceIterativeNetworkEpsBE(\"USAir.edgelist\",1190,0.0,2.0,1.0)\n",
    "PUS_py=erodeHandler.j_to_py_list(PUS,int)\n",
    "matrix= np.array(nx.adjacency_matrix(G).todense())\n",
    "E = erodeHandler.computeEmbedding(matrix,PUS_py)\n",
    "print(\"EMBEDDING DIMENSION\")\n",
    "print(E.shape)"
   ]
  },
  {
   "cell_type": "markdown",
   "id": "870e7073-5823-4aa0-ace4-f5ee308f1017",
   "metadata": {},
   "source": [
    "#### Actor Network"
   ]
  },
  {
   "cell_type": "code",
   "execution_count": 119,
   "id": "273796ee-bb22-42db-96ef-55b773d1692a",
   "metadata": {},
   "outputs": [
    {
     "name": "stdout",
     "output_type": "stream",
     "text": [
      "EMBEDDING DIMENSION\n",
      "(7779, 201)\n"
     ]
    }
   ],
   "source": [
    "G = nx.read_edgelist(\"actor.edgelist\")\n",
    "#Add isolated nodes\n",
    "all_nodes = {str(i) for i in range(7779)}\n",
    "G.add_nodes_from(all_nodes - set(G.nodes()))\n",
    "Pactor = erode.reduceIterativeNetworkEpsBE(\"actor.edgelist\",7779,2.0,8.0,2.0)\n",
    "Pactor_py=erodeHandler.j_to_py_list(Pactor,int)\n",
    "matrix= np.array(nx.adjacency_matrix(G).todense())\n",
    "E = erodeHandler.computeEmbedding(matrix,Pactor_py)\n",
    "print(\"EMBEDDING DIMENSION\")\n",
    "print(E.shape)"
   ]
  },
  {
   "cell_type": "markdown",
   "id": "acdad05f-22b4-4ad4-a588-62f14bb5f17c",
   "metadata": {},
   "source": [
    "#### Film Network"
   ]
  },
  {
   "cell_type": "code",
   "execution_count": 120,
   "id": "11bf0440-1e3c-4f06-bebc-b70eb85f4d8f",
   "metadata": {},
   "outputs": [
    {
     "name": "stdout",
     "output_type": "stream",
     "text": [
      "EMBEDDING DIMENSION\n",
      "(27312, 177)\n"
     ]
    }
   ],
   "source": [
    "G = nx.read_edgelist(\"film.edgelist\")\n",
    "Pfilm = erode.reduceIterativeNetworkEpsBE(\"film.edgelist\",27312,6.0,30.0,6.0)\n",
    "Pfilm_py=erodeHandler.j_to_py_list(Pfilm,int)\n",
    "matrix= np.array(nx.adjacency_matrix(G).todense())\n",
    "E = erodeHandler.computeEmbedding(matrix,Pfilm_py)\n",
    "print(\"EMBEDDING DIMENSION\")\n",
    "print(E.shape)"
   ]
  },
  {
   "cell_type": "markdown",
   "id": "256eff9f-95c9-4fa5-b3ce-75cb55561db8",
   "metadata": {},
   "source": [
    "## Terminate ERODE and JVM"
   ]
  },
  {
   "cell_type": "code",
   "execution_count": 107,
   "id": "09c10be2-544d-4a32-959c-e82e9990e720",
   "metadata": {},
   "outputs": [
    {
     "name": "stdout",
     "output_type": "stream",
     "text": [
      "Terminating JVM and ERODE\n",
      " Completed\n"
     ]
    }
   ],
   "source": [
    "#Do not forget to close ERODE and the JVM when you are done\n",
    "erodeHandler._stop_server()"
   ]
  },
  {
   "cell_type": "code",
   "execution_count": null,
   "id": "340f7b16-fbd9-4d69-aafb-97af124a6fca",
   "metadata": {},
   "outputs": [],
   "source": []
  }
 ],
 "metadata": {
  "kernelspec": {
   "display_name": "env_research",
   "language": "python",
   "name": "env_research"
  },
  "language_info": {
   "codemirror_mode": {
    "name": "ipython",
    "version": 3
   },
   "file_extension": ".py",
   "mimetype": "text/x-python",
   "name": "python",
   "nbconvert_exporter": "python",
   "pygments_lexer": "ipython3",
   "version": "3.9.10"
  },
  "toc-autonumbering": true
 },
 "nbformat": 4,
 "nbformat_minor": 5
}
