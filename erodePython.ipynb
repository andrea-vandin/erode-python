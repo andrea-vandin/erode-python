{
 "cells": [
  {
   "cell_type": "markdown",
   "id": "15fb4090-e721-4c83-97d7-9565842699e0",
   "metadata": {},
   "source": [
    "# Install libraries"
   ]
  },
  {
   "cell_type": "code",
   "execution_count": 1,
   "id": "cc2ebaac-ba01-4b55-93f8-51ad33e8ec86",
   "metadata": {},
   "outputs": [
    {
     "name": "stdout",
     "output_type": "stream",
     "text": [
      "Requirement already satisfied: pip in /Users/andrea/Documents/python_envs/env_research/lib/python3.9/site-packages (23.3.1)\n",
      "Note: you may need to restart the kernel to use updated packages.\n",
      "Requirement already satisfied: matplotlib in /Users/andrea/Documents/python_envs/env_research/lib/python3.9/site-packages (3.5.1)\n",
      "Requirement already satisfied: cycler>=0.10 in /Users/andrea/Documents/python_envs/env_research/lib/python3.9/site-packages (from matplotlib) (0.11.0)\n",
      "Requirement already satisfied: fonttools>=4.22.0 in /Users/andrea/Documents/python_envs/env_research/lib/python3.9/site-packages (from matplotlib) (4.32.0)\n",
      "Requirement already satisfied: kiwisolver>=1.0.1 in /Users/andrea/Documents/python_envs/env_research/lib/python3.9/site-packages (from matplotlib) (1.4.2)\n",
      "Requirement already satisfied: numpy>=1.17 in /Users/andrea/Documents/python_envs/env_research/lib/python3.9/site-packages (from matplotlib) (1.22.3)\n",
      "Requirement already satisfied: packaging>=20.0 in /Users/andrea/Documents/python_envs/env_research/lib/python3.9/site-packages (from matplotlib) (21.3)\n",
      "Requirement already satisfied: pillow>=6.2.0 in /Users/andrea/Documents/python_envs/env_research/lib/python3.9/site-packages (from matplotlib) (10.1.0)\n",
      "Requirement already satisfied: pyparsing>=2.2.1 in /Users/andrea/Documents/python_envs/env_research/lib/python3.9/site-packages (from matplotlib) (3.0.8)\n",
      "Requirement already satisfied: python-dateutil>=2.7 in /Users/andrea/Documents/python_envs/env_research/lib/python3.9/site-packages (from matplotlib) (2.8.2)\n",
      "Requirement already satisfied: six>=1.5 in /Users/andrea/Documents/python_envs/env_research/lib/python3.9/site-packages (from python-dateutil>=2.7->matplotlib) (1.16.0)\n",
      "Note: you may need to restart the kernel to use updated packages.\n",
      "Requirement already satisfied: pandas in /Users/andrea/Documents/python_envs/env_research/lib/python3.9/site-packages (1.4.2)\n",
      "Requirement already satisfied: python-dateutil>=2.8.1 in /Users/andrea/Documents/python_envs/env_research/lib/python3.9/site-packages (from pandas) (2.8.2)\n",
      "Requirement already satisfied: pytz>=2020.1 in /Users/andrea/Documents/python_envs/env_research/lib/python3.9/site-packages (from pandas) (2023.3.post1)\n",
      "Requirement already satisfied: numpy>=1.18.5 in /Users/andrea/Documents/python_envs/env_research/lib/python3.9/site-packages (from pandas) (1.22.3)\n",
      "Requirement already satisfied: six>=1.5 in /Users/andrea/Documents/python_envs/env_research/lib/python3.9/site-packages (from python-dateutil>=2.8.1->pandas) (1.16.0)\n",
      "Note: you may need to restart the kernel to use updated packages.\n",
      "Requirement already satisfied: py4j in /Users/andrea/Documents/python_envs/env_research/lib/python3.9/site-packages (0.10.9.5)\n",
      "Note: you may need to restart the kernel to use updated packages.\n",
      "Requirement already satisfied: scipy in /Users/andrea/Documents/python_envs/env_research/lib/python3.9/site-packages (1.9.1)\n",
      "Requirement already satisfied: numpy<1.25.0,>=1.18.5 in /Users/andrea/Documents/python_envs/env_research/lib/python3.9/site-packages (from scipy) (1.22.3)\n",
      "Note: you may need to restart the kernel to use updated packages.\n"
     ]
    }
   ],
   "source": [
    "%pip install --upgrade pip\n",
    "%pip install matplotlib\n",
    "%pip install pandas\n",
    "%pip install py4j\n",
    "%pip install scipy\n",
    "\n",
    "#%pip install seaborn"
   ]
  },
  {
   "cell_type": "markdown",
   "id": "4eecf02c-11d3-43cd-9287-281e5c04983e",
   "metadata": {
    "tags": []
   },
   "source": [
    "# Handle Java Virtual Machines"
   ]
  },
  {
   "cell_type": "markdown",
   "id": "220f4b46-ac30-41d6-8e95-96b31f88d96c",
   "metadata": {},
   "source": [
    "## Import libraries to run/terminate JVM"
   ]
  },
  {
   "cell_type": "code",
   "execution_count": 3,
   "id": "6e9e9ef2-897b-4e47-b5f8-a60a2ab90df2",
   "metadata": {},
   "outputs": [],
   "source": [
    "from contextlib import closing\n",
    "import os\n",
    "import sys\n",
    "import platform\n",
    "import socket\n",
    "import subprocess\n",
    "from subprocess import PIPE\n",
    "import tempfile\n",
    "import pandas as pd\n",
    "import time\n",
    "\n",
    "import matplotlib.pyplot as plt\n",
    "\n",
    "#import seaborn as sns\n",
    "#sns.set_theme()\n",
    "\n",
    "import numpy as np\n",
    "\n",
    "\n",
    "from py4j.java_gateway import JavaGateway, GatewayParameters\n",
    "from py4j.java_collections import ListConverter\n",
    "\n",
    "import scipy\n",
    "\n",
    "from datetime import datetime"
   ]
  },
  {
   "cell_type": "markdown",
   "id": "8be0b455",
   "metadata": {},
   "source": [
    "# Download the latest version of the ERODE library"
   ]
  },
  {
   "cell_type": "code",
   "execution_count": 3,
   "id": "86afa9ec",
   "metadata": {},
   "outputs": [],
   "source": [
    "import urllib.request\n",
    "from pathlib import Path\n",
    "\n",
    "base_url=\"https://www.erode.eu/distr/erode_python/\"\n",
    "files=[\"erode.jar\",\"AM.ode\",\"kaic.ode\",\"MI.ode\",\"test2.csv\",\"test2B.csv\"]\n",
    "\n",
    "for file in files:\n",
    "  url=base_url+file\n",
    "  urllib.request.urlretrieve(url,Path(url).name)"
   ]
  },
  {
   "cell_type": "markdown",
   "id": "0d5230cc-8360-4fc8-a351-bf7d6bbd21db",
   "metadata": {},
   "source": [
    "## Define functions to run/terminate JVM"
   ]
  },
  {
   "cell_type": "code",
   "execution_count": 4,
   "id": "6ebb286c-0579-4095-9125-65758c1ec9da",
   "metadata": {},
   "outputs": [],
   "source": [
    "class ErodeHandler:\n",
    "    ## Specify path to java JDK\n",
    "    #Default string. Can be changed using the constructor of erodeHandler\n",
    "    #__JAVA_PATH__=\"/Library/Java/JavaVirtualMachines/jdk-11.0.14.jdk/Contents/Home/bin/java\"\n",
    "    #__JAVA_PATH__=\"/usr/lib/jvm/java-8-openjdk-amd64/Contents/Home/bin/java\"\n",
    "    __JAVA_PATH__=\"java\"\n",
    "    __IN_COLAB__ = False #'google.colab' in sys.modules\n",
    "\n",
    "    ## Specify path to java JDK\n",
    "    #Default string. \n",
    "    __ERODE_JAR__ = \"erode.jar\" #os.path.join(os.path.dirname(__file__), \"erode.jar\")\n",
    "\n",
    "    ## Specify whether a new JVM shall be created, or whether we shall connect to an existing one\n",
    "    # Do not change\n",
    "    __STARTJVM__ = True\n",
    "    \n",
    "    def __init__(self,j_path=__JAVA_PATH__):\n",
    "        self._java_path=j_path\n",
    "        self.erode_jar=ErodeHandler.__ERODE_JAR__\n",
    "        if ErodeHandler.__IN_COLAB__:\n",
    "          print('I install java')\n",
    "          self._install_java()\n",
    "\n",
    "    def _install_java(self):\n",
    "      !apt-get install -y openjdk-8-jdk-headless -qq > /dev/null      #install openjdk\n",
    "      os.environ[\"JAVA_HOME\"] = \"/usr/lib/jvm/java-8-openjdk-amd64\"     #set environment variable\n",
    "      #!java -version       #check java version\n",
    "      ErodeHandler.__JAVA_PATH__=\"java\"\n",
    "      \n",
    "\n",
    "    def _start_server(self):\n",
    "        # find a free port\n",
    "        for port in range(25333, 65545):\n",
    "            with closing(socket.socket(socket.AF_INET, socket.SOCK_STREAM)) as s:\n",
    "                dest_addr = (\"127.0.0.1\", port)\n",
    "                if s.connect_ex(dest_addr):\n",
    "                    break\n",
    "\n",
    "        #ld_path = __ERODE_LIB_DIR__\n",
    "        ld_path='native/osx'\n",
    "        #java=\"java\"\n",
    "        java =self._java_path\n",
    "        argv = [java, f'-Djava.library.path=\"{ld_path}\"',\n",
    "                    \"-jar\", self.erode_jar, str(port)]\n",
    "        #print(\"argv\",argv)\n",
    "        if platform.system() == \"Linux\":\n",
    "            env_ld_path = os.getenv(\"LD_LIBRARY_PATH\")\n",
    "            if env_ld_path:\n",
    "                ld_path = f\"{ld_path}:{env_ld_path}\"\n",
    "            env ={\"LD_LIBRARY_PATH\": ld_path}\n",
    "            proc = subprocess.Popen(\" \".join(argv), stdout=PIPE,\n",
    "                    shell=True, env=env)\n",
    "        else:\n",
    "            proc = subprocess.Popen(argv, stdout=PIPE)\n",
    "        proc.stdout.readline()\n",
    "\n",
    "        self._proc=proc\n",
    "        self._port=port\n",
    "\n",
    "        time.sleep(1) # Sleep for 1 second\n",
    "        return #proc, port\n",
    "\n",
    "    def _stop_server(self):\n",
    "        if ErodeHandler.__STARTJVM__:\n",
    "            print('Terminating JVM and ERODE')\n",
    "            time.sleep(1) # Sleep for 1 second\n",
    "            self._proc.terminate()\n",
    "            try:\n",
    "                self._proc.wait(5)\n",
    "            except subprocess.TimeoutExpired:\n",
    "                self._proc.kill()\n",
    "                self._proc.wait()\n",
    "            print(' Completed')\n",
    "        else:\n",
    "            print('Nothing to terminate')\n",
    "\n",
    "    def start_JVM(self):\n",
    "        print('Starting the JVM and ERODE')\n",
    "        if ErodeHandler.__STARTJVM__:\n",
    "            #self._proc, self._port = _start_server()\n",
    "            self._start_server()\n",
    "        else:\n",
    "            self._proc =-1\n",
    "            self._port =25347\n",
    "        gw_params = GatewayParameters(port=self._port)#, auto_convert=True)\n",
    "        self._gw = JavaGateway(gateway_parameters=gw_params)\n",
    "\n",
    "        self.int_class   =self._gw.jvm.int    # make int class\n",
    "        self.double_class=self._gw.jvm.double # make double class\n",
    "        self.erode = self._gw.entry_point\n",
    "        #print(_proc)\n",
    "        #_port\n",
    "        print('  Completed')\n",
    "        return self.erode #,self._proc,self._port\n",
    "            \n",
    "    def j_to_py_matrix(self,metrics_java):\n",
    "        metrics_python= [ list(line) for line in metrics_java ]\n",
    "        return metrics_python        \n",
    "\n",
    "    def j_to_py_list(self,partition_java):\n",
    "        partition_python= [ int(entry) for entry in partition_java ]\n",
    "        return partition_python\n",
    "\n",
    "\n",
    "    #Takes in input a list of int created in python. Gives in output a corresponding array of int for java\n",
    "    def py_to_j_list(self,python_int_list):\n",
    "        java_int_array = self._gw.new_array(self.int_class,len(python_int_list))\n",
    "        #double_array = gateway.new_array(self.double_class,1,len(partition_python))\n",
    "\n",
    "        for i in range(len(python_int_list)):\n",
    "            java_int_array[i]=python_int_list[i]\n",
    "        \n",
    "        return java_int_array\n",
    "\n",
    "    def matrix_to_upper_diagonal(m):\n",
    "        l=[]\n",
    "        for i in range(len(m)):\n",
    "            for j in range(i+1,len(m)):\n",
    "                l.append(m[i][j])\n",
    "        return l"
   ]
  },
  {
   "cell_type": "markdown",
   "id": "afaa3e5b-c139-4820-85cb-3483268ffc00",
   "metadata": {
    "tags": []
   },
   "source": [
    "# Use ERODE"
   ]
  },
  {
   "cell_type": "markdown",
   "id": "d812607e-a29b-4fe0-bc1b-143f78afd004",
   "metadata": {},
   "source": [
    "## Start ERODE and VM"
   ]
  },
  {
   "cell_type": "code",
   "execution_count": 5,
   "id": "1a104240-e38b-4f65-b122-b6520c8db5f9",
   "metadata": {},
   "outputs": [
    {
     "name": "stdout",
     "output_type": "stream",
     "text": [
      "Starting the JVM and ERODE\n",
      "  Completed\n"
     ]
    },
    {
     "data": {
      "text/plain": [
       "py4j.java_gateway.JavaObject"
      ]
     },
     "execution_count": 5,
     "metadata": {},
     "output_type": "execute_result"
    }
   ],
   "source": [
    "#Always start ERODE on a JVM\n",
    "erodeHandler = ErodeHandler()\n",
    "erode=erodeHandler.start_JVM()\n",
    "type(erode)"
   ]
  },
  {
   "cell_type": "markdown",
   "id": "86bd4ca0-3a99-4cb0-b154-4d3e5b29c5b0",
   "metadata": {},
   "source": [
    "## Tests"
   ]
  },
  {
   "cell_type": "markdown",
   "id": "bc4752fb-ae05-4dbd-a441-b40742f09a51",
   "metadata": {},
   "source": [
    "### Import Affine systems"
   ]
  },
  {
   "cell_type": "code",
   "execution_count": 6,
   "id": "4efb0ca6-1ca6-4341-8a16-8bf1ed67eda6",
   "metadata": {},
   "outputs": [
    {
     "name": "stdout",
     "output_type": "stream",
     "text": [
      "The loaded model has 3 variables\n",
      "test2.csv: 2 reactions, 3 species.\n",
      "Species:\n",
      "[S0, S1, S2]\n",
      " Reactions:\n",
      "[S1-- (1.0) -->S0+S1, S2-- (1.0) -->S0+S2]\n"
     ]
    }
   ],
   "source": [
    "erode.importAffine(\"test2.csv\",\"test2B.csv\")\n",
    "nVars=erode.getVariablesNum()\n",
    "print('The loaded model has',nVars,'variables')\n",
    "print(erode.getModelString())"
   ]
  },
  {
   "cell_type": "markdown",
   "id": "0b54356d-436e-4b14-bf2a-8e564d6012e8",
   "metadata": {},
   "source": [
    "### Import and reduce ODEs"
   ]
  },
  {
   "cell_type": "code",
   "execution_count": 7,
   "id": "36a7e601-59d7-4cfe-9d0f-d848ba53b7e9",
   "metadata": {},
   "outputs": [
    {
     "name": "stdout",
     "output_type": "stream",
     "text": [
      "We have loaded model AM.ode\n",
      "AM.ode: 4 reactions, 3 species.\n",
      "Species:\n",
      "[x0, x1, x2]\n",
      " Reactions:\n",
      "[x0+x2-- (p1) -->x1+x2, x0+x2-- (p2) -->x0+x1, x0+x1-- (p3) -->2*x0, x1+x2-- (p4) -->2*x2]\n"
     ]
    }
   ],
   "source": [
    "erode.loadModel(\"AM.ode\")\n",
    "print('We have loaded model',erode.getModelName())\n",
    "print(erode.getModelString())"
   ]
  },
  {
   "cell_type": "code",
   "execution_count": 8,
   "id": "e1d42f6e-ce52-4c7a-ab23-5fd7c23df3b6",
   "metadata": {},
   "outputs": [
    {
     "name": "stdout",
     "output_type": "stream",
     "text": [
      "\n",
      "<class 'py4j.java_collections.JavaArray'>\n",
      "\n",
      "The partition has 1 block out of 3 species:\n",
      "Block 1, Size: 3\n",
      "0-x0 \n",
      "1-x1 \n",
      "2-x2 \n",
      "\n"
     ]
    }
   ],
   "source": [
    "obtained = erode.computeBE();\n",
    "print()\n",
    "print(type(obtained))\n",
    "print()\n",
    "print(erode.getPartitionString(obtained))"
   ]
  },
  {
   "cell_type": "code",
   "execution_count": 9,
   "id": "a658a0fe-408f-4298-af27-7ceff40158ed",
   "metadata": {},
   "outputs": [
    {
     "name": "stdout",
     "output_type": "stream",
     "text": [
      "The partition has 1 blocks\n"
     ]
    }
   ],
   "source": [
    "n_blocks=erode.getNumberOfBlocks(obtained)\n",
    "print(\"The partition has\",n_blocks,\"blocks\")"
   ]
  },
  {
   "cell_type": "markdown",
   "id": "f8fba5b7-5d57-4ad3-a803-7482eb88a44e",
   "metadata": {},
   "source": [
    "#### We can provide custom prepartitions\n",
    "- E.g., we don't want to mix x2 with the other two variables\n",
    "- We just need to make a pre-pratitiong of the viariables: {{x0,x1},{x2}} \n",
    "- We do this by creating a list of int with one entry per variable. \n",
    "- The int values will denote blocks of the pre-partitions: variables with assigned same number will stay together\n",
    "- E.g, we can encode {{x0,x1},{x2}} as [1,1,2]"
   ]
  },
  {
   "cell_type": "code",
   "execution_count": 10,
   "id": "ba6788ef",
   "metadata": {},
   "outputs": [
    {
     "name": "stdout",
     "output_type": "stream",
     "text": [
      "ERODE will ue the following pre_partition\n",
      "The partition has 2 blocks out of 3 species:\n",
      "Block 1, Size: 2\n",
      "0-x0 \n",
      "1-x1 \n",
      "\n",
      "Block 2, Size: 1\n",
      "2-x2 \n",
      "\n",
      "The initial partition has 2 blocks\n",
      "\n",
      "This is the obtained partition\n",
      "The partition has 3 blocks out of 3 species:\n",
      "Block 1, Size: 1\n",
      "0-x0 \n",
      "\n",
      "Block 2, Size: 1\n",
      "1-x1 \n",
      "\n",
      "Block 3, Size: 1\n",
      "2-x2 \n",
      "\n"
     ]
    }
   ],
   "source": [
    "pre_part=erodeHandler.py_to_j_list([1,1,2])\n",
    "\n",
    "print(\"ERODE will ue the following pre_partition\")\n",
    "print(erode.getPartitionString(pre_part))\n",
    "\n",
    "n_blocks=erode.getNumberOfBlocks(pre_part)\n",
    "print(\"The initial partition has\",n_blocks,\"blocks\\n\")\n",
    "\n",
    "obtained_prep = erode.computeBE(pre_part);\n",
    "#obtained_prep\n",
    "print(\"This is the obtained partition\")\n",
    "print(erode.getPartitionString(obtained_prep))"
   ]
  },
  {
   "cell_type": "markdown",
   "id": "ac4ee72b-c8e9-4276-b975-7d4da1bcc866",
   "metadata": {},
   "source": [
    "#### We can provide the prepartition written in the model, if any\n"
   ]
  },
  {
   "cell_type": "code",
   "execution_count": 11,
   "id": "f4b0e535-a780-4e74-9912-6a7d64433066",
   "metadata": {},
   "outputs": [
    {
     "name": "stdout",
     "output_type": "stream",
     "text": [
      "ERODE will use the following pre_partition\n",
      "The partition has 2 blocks out of 3 species:\n",
      "Block 1, Size: 2\n",
      "0-x0 \n",
      "2-x2 \n",
      "\n",
      "Block 2, Size: 1\n",
      "1-x1 \n",
      "\n",
      "This is the obtained partition\n",
      "The partition has 2 blocks out of 3 species:\n",
      "Block 1, Size: 2\n",
      "0-x0 \n",
      "2-x2 \n",
      "\n",
      "Block 2, Size: 1\n",
      "1-x1 \n",
      "\n"
     ]
    }
   ],
   "source": [
    "pre_part=erode.getUserDefinedPartition()\n",
    "\n",
    "print(\"ERODE will use the following pre_partition\")\n",
    "print(erode.getPartitionString(pre_part))\n",
    "\n",
    "obtained_prep = erode.computeBE(pre_part);\n",
    "#obtained_prep\n",
    "print(\"This is the obtained partition\")\n",
    "print(erode.getPartitionString(obtained_prep))"
   ]
  },
  {
   "cell_type": "markdown",
   "id": "35001c09-6c33-41e1-a10d-ec42a0684a82",
   "metadata": {},
   "source": [
    "#### Further examples of reduction"
   ]
  },
  {
   "cell_type": "code",
   "execution_count": 12,
   "id": "14a4e2fc-1c8b-42c2-a43f-1673def24b91",
   "metadata": {},
   "outputs": [
    {
     "name": "stdout",
     "output_type": "stream",
     "text": [
      "The partition has 1 block out of 3 species:\n",
      "Block 1, Size: 3\n",
      "0-x0 \n",
      "1-x1 \n",
      "2-x2 \n",
      "\n"
     ]
    }
   ],
   "source": [
    "obtained = erode.computeFE();\n",
    "obtained\n",
    "print(erode.getPartitionString(obtained))"
   ]
  },
  {
   "cell_type": "code",
   "execution_count": 13,
   "id": "7b469833-de6e-4370-9f8f-a80a34b970cc",
   "metadata": {},
   "outputs": [
    {
     "name": "stdout",
     "output_type": "stream",
     "text": [
      "We have loaded model MI.ode\n",
      "MI.ode: 8 reactions, 6 species.\n",
      "Species:\n",
      "[Y0, Z0, Y1, Z1, Y2, Z2]\n",
      " Reactions:\n",
      "[Y0+Z0-- (k1) -->Z0+Y1, Z0+Y1-- (k2) -->Z0+Y2, Y0+Y2-- (k3) -->Y0+Y1, Y0+Y1-- (k4) -->2*Y0, Z0+Z2-- (k1) -->Z0+Z1, Z0+Z1-- (k2) -->2*Z0, Y0+Z0-- (k3) -->Y0+Z1, Y0+Z1-- (k4) -->Y0+Z2]\n",
      "\n",
      "BE reduction of MI\n",
      "The partition has 1 block out of 6 species:\n",
      "Block 1, Size: 6\n",
      "0-Y0 \n",
      "1-Z0 \n",
      "2-Y1 \n",
      "3-Z1 \n",
      "4-Y2 \n",
      "5-Z2 \n",
      "\n"
     ]
    }
   ],
   "source": [
    "erode.loadModel(\"MI.ode\")\n",
    "print('We have loaded model',erode.getModelName())\n",
    "print(erode.getModelString())\n",
    "obtained = erode.computeBE();\n",
    "\n",
    "print()\n",
    "print(\"BE reduction of MI\")\n",
    "print(erode.getPartitionString(obtained))"
   ]
  },
  {
   "cell_type": "code",
   "execution_count": 14,
   "id": "ce68116f-1254-475f-8f9f-a5fc1ee4bfaf",
   "metadata": {},
   "outputs": [
    {
     "name": "stdout",
     "output_type": "stream",
     "text": [
      "We have loaded model kaic.ode\n",
      "kaic.ode: 8 reactions, 4 species.\n",
      "Species:\n",
      "[OO, PP, OP, PO]\n",
      " Reactions:\n",
      "[OO+PP-- (k1) -->PP+OP, PP+OP-- (k2) -->2*PP, OO+PP-- (k1) -->OO+OP, OO+OP-- (k2) -->2*OO, OO+PP-- (k1) -->PP+PO, PP+PO-- (k2) -->2*PP, OO+PP-- (k1) -->OO+PO, OO+PO-- (k2) -->2*OO]\n",
      "\n",
      "FE reduction of KAIC\n",
      "The partition has 2 blocks out of 4 species:\n",
      "Block 1, Size: 2\n",
      "0-OO \n",
      "1-PP \n",
      "\n",
      "Block 2, Size: 2\n",
      "2-OP \n",
      "3-PO \n",
      "\n",
      "\n"
     ]
    }
   ],
   "source": [
    "erode.loadModel(\"kaic.ode\")\n",
    "print('We have loaded model',erode.getModelName())\n",
    "print(erode.getModelString())\n",
    "\n",
    "print()\n",
    "obtained = erode.computeFE();\n",
    "print(\"FE reduction of KAIC\")\n",
    "print(erode.getPartitionString(obtained))\n",
    "\n",
    "print()\n",
    "erode.simulateODE(1.0,100,\"kaic.csv\")"
   ]
  },
  {
   "cell_type": "markdown",
   "id": "fe407ac5-5df5-4302-a1c4-6088331eb3cb",
   "metadata": {},
   "source": [
    "#### Lists & arrays: From java to python and viceversa"
   ]
  },
  {
   "cell_type": "code",
   "execution_count": 15,
   "id": "403be6d6-4be5-4c4b-bc4e-8fec53266475",
   "metadata": {},
   "outputs": [
    {
     "data": {
      "text/plain": [
       "[1, 1, 2]"
      ]
     },
     "execution_count": 15,
     "metadata": {},
     "output_type": "execute_result"
    }
   ],
   "source": [
    "#Convert a python list of int to a java array of int\n",
    "#  This allows to specify custom initial partitions\n",
    "array_java=erodeHandler.py_to_j_list([1,1,2])\n",
    "\n",
    "#Convert a java array of int to a python list of int\n",
    "#  This allows to use in python a partition computed by ERODE\n",
    "py_list=erodeHandler.j_to_py_list(array_java)\n",
    "py_list"
   ]
  },
  {
   "cell_type": "markdown",
   "id": "3f52a77b-de10-4e0e-80f1-36ad33a25716",
   "metadata": {},
   "source": [
    "### Simulate ODEs"
   ]
  },
  {
   "cell_type": "code",
   "execution_count": 14,
   "id": "6916740f-6680-4862-a6c3-c31873bef8b1",
   "metadata": {},
   "outputs": [
    {
     "name": "stdout",
     "output_type": "stream",
     "text": [
      "We have loaded model kaic.ode\n",
      "kaic.ode: 8 reactions, 4 species.\n",
      "Species:\n",
      "[OO, PP, OP, PO]\n",
      " Reactions:\n",
      "[OO+PP-- (k1) -->PP+OP, PP+OP-- (k2) -->2*PP, OO+PP-- (k1) -->OO+OP, OO+OP-- (k2) -->2*OO, OO+PP-- (k1) -->PP+PO, PP+PO-- (k2) -->2*PP, OO+PP-- (k1) -->OO+PO, OO+PO-- (k2) -->2*OO]\n",
      "\n"
     ]
    },
    {
     "data": {
      "text/html": [
       "<div>\n",
       "<style scoped>\n",
       "    .dataframe tbody tr th:only-of-type {\n",
       "        vertical-align: middle;\n",
       "    }\n",
       "\n",
       "    .dataframe tbody tr th {\n",
       "        vertical-align: top;\n",
       "    }\n",
       "\n",
       "    .dataframe thead th {\n",
       "        text-align: right;\n",
       "    }\n",
       "</style>\n",
       "<table border=\"1\" class=\"dataframe\">\n",
       "  <thead>\n",
       "    <tr style=\"text-align: right;\">\n",
       "      <th></th>\n",
       "      <th># time</th>\n",
       "      <th>OO</th>\n",
       "      <th>PP</th>\n",
       "      <th>OP</th>\n",
       "      <th>PO</th>\n",
       "      <th></th>\n",
       "    </tr>\n",
       "  </thead>\n",
       "  <tbody>\n",
       "    <tr>\n",
       "      <th>0</th>\n",
       "      <td>0.000000</td>\n",
       "      <td>2.000000</td>\n",
       "      <td>2.000000</td>\n",
       "      <td>0.000000</td>\n",
       "      <td>0.000000</td>\n",
       "      <td>NaN</td>\n",
       "    </tr>\n",
       "    <tr>\n",
       "      <th>1</th>\n",
       "      <td>0.010101</td>\n",
       "      <td>1.961170</td>\n",
       "      <td>1.961170</td>\n",
       "      <td>0.038830</td>\n",
       "      <td>0.038830</td>\n",
       "      <td>NaN</td>\n",
       "    </tr>\n",
       "    <tr>\n",
       "      <th>2</th>\n",
       "      <td>0.020202</td>\n",
       "      <td>1.925271</td>\n",
       "      <td>1.925271</td>\n",
       "      <td>0.074729</td>\n",
       "      <td>0.074729</td>\n",
       "      <td>NaN</td>\n",
       "    </tr>\n",
       "    <tr>\n",
       "      <th>3</th>\n",
       "      <td>0.030303</td>\n",
       "      <td>1.892010</td>\n",
       "      <td>1.892010</td>\n",
       "      <td>0.107990</td>\n",
       "      <td>0.107990</td>\n",
       "      <td>NaN</td>\n",
       "    </tr>\n",
       "    <tr>\n",
       "      <th>4</th>\n",
       "      <td>0.040404</td>\n",
       "      <td>1.861130</td>\n",
       "      <td>1.861130</td>\n",
       "      <td>0.138870</td>\n",
       "      <td>0.138870</td>\n",
       "      <td>NaN</td>\n",
       "    </tr>\n",
       "    <tr>\n",
       "      <th>...</th>\n",
       "      <td>...</td>\n",
       "      <td>...</td>\n",
       "      <td>...</td>\n",
       "      <td>...</td>\n",
       "      <td>...</td>\n",
       "      <td>...</td>\n",
       "    </tr>\n",
       "    <tr>\n",
       "      <th>95</th>\n",
       "      <td>0.959596</td>\n",
       "      <td>1.342971</td>\n",
       "      <td>1.342971</td>\n",
       "      <td>0.657029</td>\n",
       "      <td>0.657029</td>\n",
       "      <td>NaN</td>\n",
       "    </tr>\n",
       "    <tr>\n",
       "      <th>96</th>\n",
       "      <td>0.969697</td>\n",
       "      <td>1.342586</td>\n",
       "      <td>1.342586</td>\n",
       "      <td>0.657414</td>\n",
       "      <td>0.657414</td>\n",
       "      <td>NaN</td>\n",
       "    </tr>\n",
       "    <tr>\n",
       "      <th>97</th>\n",
       "      <td>0.979798</td>\n",
       "      <td>1.342218</td>\n",
       "      <td>1.342218</td>\n",
       "      <td>0.657782</td>\n",
       "      <td>0.657782</td>\n",
       "      <td>NaN</td>\n",
       "    </tr>\n",
       "    <tr>\n",
       "      <th>98</th>\n",
       "      <td>0.989899</td>\n",
       "      <td>1.341863</td>\n",
       "      <td>1.341863</td>\n",
       "      <td>0.658137</td>\n",
       "      <td>0.658137</td>\n",
       "      <td>NaN</td>\n",
       "    </tr>\n",
       "    <tr>\n",
       "      <th>99</th>\n",
       "      <td>1.000000</td>\n",
       "      <td>1.341524</td>\n",
       "      <td>1.341524</td>\n",
       "      <td>0.658476</td>\n",
       "      <td>0.658476</td>\n",
       "      <td>NaN</td>\n",
       "    </tr>\n",
       "  </tbody>\n",
       "</table>\n",
       "<p>100 rows × 6 columns</p>\n",
       "</div>"
      ],
      "text/plain": [
       "      # time        OO        PP        OP        PO    \n",
       "0   0.000000  2.000000  2.000000  0.000000  0.000000 NaN\n",
       "1   0.010101  1.961170  1.961170  0.038830  0.038830 NaN\n",
       "2   0.020202  1.925271  1.925271  0.074729  0.074729 NaN\n",
       "3   0.030303  1.892010  1.892010  0.107990  0.107990 NaN\n",
       "4   0.040404  1.861130  1.861130  0.138870  0.138870 NaN\n",
       "..       ...       ...       ...       ...       ...  ..\n",
       "95  0.959596  1.342971  1.342971  0.657029  0.657029 NaN\n",
       "96  0.969697  1.342586  1.342586  0.657414  0.657414 NaN\n",
       "97  0.979798  1.342218  1.342218  0.657782  0.657782 NaN\n",
       "98  0.989899  1.341863  1.341863  0.658137  0.658137 NaN\n",
       "99  1.000000  1.341524  1.341524  0.658476  0.658476 NaN\n",
       "\n",
       "[100 rows x 6 columns]"
      ]
     },
     "execution_count": 14,
     "metadata": {},
     "output_type": "execute_result"
    }
   ],
   "source": [
    "erode.loadModel(\"kaic.ode\")\n",
    "print('We have loaded model',erode.getModelName())\n",
    "print(erode.getModelString())\n",
    "\n",
    "print()\n",
    "erode.simulateODE(1.0,100,\"kaic.csv\")\n",
    "df_csv=pd.read_csv(\"kaic.csv.cdat\")\n",
    "df_csv"
   ]
  },
  {
   "cell_type": "code",
   "execution_count": 15,
   "id": "d2a43deb-194d-4dd3-aa20-f263c4dced01",
   "metadata": {},
   "outputs": [
    {
     "data": {
      "text/plain": [
       "<AxesSubplot:>"
      ]
     },
     "execution_count": 15,
     "metadata": {},
     "output_type": "execute_result"
    },
    {
     "data": {
      "image/png": "[encoded data removed]",
      "text/plain": [
       "<Figure size 432x288 with 1 Axes>"
      ]
     },
     "metadata": {
      "needs_background": "light"
     },
     "output_type": "display_data"
    }
   ],
   "source": [
    "df_csv.plot()"
   ]
  },
  {
   "cell_type": "markdown",
   "id": "256eff9f-95c9-4fa5-b3ce-75cb55561db8",
   "metadata": {},
   "source": [
    "## Terminate ERODE and JVM"
   ]
  },
  {
   "cell_type": "code",
   "execution_count": 23,
   "id": "09c10be2-544d-4a32-959c-e82e9990e720",
   "metadata": {},
   "outputs": [
    {
     "name": "stdout",
     "output_type": "stream",
     "text": [
      "Terminating JVM and ERODE\n",
      " Completed\n"
     ]
    }
   ],
   "source": [
    "#Do not forget to close ERODE and the JVM when you are done\n",
    "erodeHandler._stop_server()"
   ]
  },
  {
   "cell_type": "code",
   "execution_count": null,
   "id": "45d46c04",
   "metadata": {},
   "outputs": [],
   "source": []
  }
 ],
 "metadata": {
  "kernelspec": {
   "display_name": "env_research",
   "language": "python",
   "name": "env_research"
  },
  "language_info": {
   "codemirror_mode": {
    "name": "ipython",
    "version": 3
   },
   "file_extension": ".py",
   "mimetype": "text/x-python",
   "name": "python",
   "nbconvert_exporter": "python",
   "pygments_lexer": "ipython3",
   "version": "3.9.10"
  },
  "toc-autonumbering": true
 },
 "nbformat": 4,
 "nbformat_minor": 5
}
